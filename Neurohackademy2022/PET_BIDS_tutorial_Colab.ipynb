{
  "nbformat": 4,
  "nbformat_minor": 0,
  "metadata": {
    "colab": {
      "provenance": []
    },
    "kernelspec": {
      "name": "python3",
      "display_name": "Python 3"
    },
    "language_info": {
      "name": "python"
    }
  },
  "cells": [
    {
      "cell_type": "code",
      "source": [
        "!pip install nipype"
      ],
      "metadata": {
        "id": "zAF7-dSvn5B9"
      },
      "execution_count": null,
      "outputs": []
    },
    {
      "cell_type": "code",
      "execution_count": 1,
      "metadata": {
        "id": "lpozQIn0m0gx"
      },
      "outputs": [],
      "source": [
        "# import the relevant Python packages\n",
        "import numpy\n",
        "import nibabel\n",
        "import nipype\n",
        "import matplotlib"
      ]
    },
    {
      "cell_type": "code",
      "source": [
        "\n",
        "!pip install gdown\n"
      ],
      "metadata": {
        "colab": {
          "base_uri": "https://localhost:8080/"
        },
        "id": "lf4bWx6inzH6",
        "outputId": "32550555-af17-49e7-bab1-ac6b5657b3c0"
      },
      "execution_count": 2,
      "outputs": [
        {
          "output_type": "stream",
          "name": "stdout",
          "text": [
            "Looking in indexes: https://pypi.org/simple, https://us-python.pkg.dev/colab-wheels/public/simple/\n",
            "Requirement already satisfied: gdown in /usr/local/lib/python3.8/dist-packages (4.4.0)\n",
            "Requirement already satisfied: tqdm in /usr/local/lib/python3.8/dist-packages (from gdown) (4.64.1)\n",
            "Requirement already satisfied: beautifulsoup4 in /usr/local/lib/python3.8/dist-packages (from gdown) (4.6.3)\n",
            "Requirement already satisfied: six in /usr/local/lib/python3.8/dist-packages (from gdown) (1.15.0)\n",
            "Requirement already satisfied: filelock in /usr/local/lib/python3.8/dist-packages (from gdown) (3.8.0)\n",
            "Requirement already satisfied: requests[socks] in /usr/local/lib/python3.8/dist-packages (from gdown) (2.23.0)\n",
            "Requirement already satisfied: urllib3!=1.25.0,!=1.25.1,<1.26,>=1.21.1 in /usr/local/lib/python3.8/dist-packages (from requests[socks]->gdown) (1.24.3)\n",
            "Requirement already satisfied: certifi>=2017.4.17 in /usr/local/lib/python3.8/dist-packages (from requests[socks]->gdown) (2022.9.24)\n",
            "Requirement already satisfied: idna<3,>=2.5 in /usr/local/lib/python3.8/dist-packages (from requests[socks]->gdown) (2.10)\n",
            "Requirement already satisfied: chardet<4,>=3.0.2 in /usr/local/lib/python3.8/dist-packages (from requests[socks]->gdown) (3.0.4)\n",
            "Requirement already satisfied: PySocks!=1.5.7,>=1.5.6 in /usr/local/lib/python3.8/dist-packages (from requests[socks]->gdown) (1.7.1)\n"
          ]
        }
      ]
    },
    {
      "cell_type": "code",
      "source": [
        "! pip install jedi"
      ],
      "metadata": {
        "colab": {
          "base_uri": "https://localhost:8080/"
        },
        "id": "NSNQWINHon1N",
        "outputId": "fa736f4b-fda9-498c-a0a8-ad4417259862"
      },
      "execution_count": 4,
      "outputs": [
        {
          "output_type": "stream",
          "name": "stdout",
          "text": [
            "Looking in indexes: https://pypi.org/simple, https://us-python.pkg.dev/colab-wheels/public/simple/\n",
            "Collecting jedi\n",
            "  Downloading jedi-0.18.2-py2.py3-none-any.whl (1.6 MB)\n",
            "\u001b[K     |████████████████████████████████| 1.6 MB 4.9 MB/s \n",
            "\u001b[?25hRequirement already satisfied: parso<0.9.0,>=0.8.0 in /usr/local/lib/python3.8/dist-packages (from jedi) (0.8.3)\n",
            "Installing collected packages: jedi\n",
            "Successfully installed jedi-0.18.2\n"
          ]
        }
      ]
    },
    {
      "cell_type": "code",
      "source": [
        "!pip install pypet2bids"
      ],
      "metadata": {
        "colab": {
          "base_uri": "https://localhost:8080/"
        },
        "id": "tvqIsDIen9sS",
        "outputId": "774d13be-d422-4c17-9242-df5b8e0c63f7"
      },
      "execution_count": 5,
      "outputs": [
        {
          "output_type": "stream",
          "name": "stdout",
          "text": [
            "Looking in indexes: https://pypi.org/simple, https://us-python.pkg.dev/colab-wheels/public/simple/\n",
            "Requirement already satisfied: pypet2bids in /usr/local/lib/python3.8/dist-packages (1.0.10)\n",
            "Requirement already satisfied: sphinxcontrib-matlabdomain<0.14.0,>=0.13.0 in /usr/local/lib/python3.8/dist-packages (from pypet2bids) (0.13.0)\n",
            "Requirement already satisfied: numpy<2.0.0,>=1.21.3 in /usr/local/lib/python3.8/dist-packages (from pypet2bids) (1.21.6)\n",
            "Requirement already satisfied: scipy<2.0.0,>=1.7.1 in /usr/local/lib/python3.8/dist-packages (from pypet2bids) (1.7.3)\n",
            "Requirement already satisfied: pydicom<3.0.0,>=2.2.2 in /usr/local/lib/python3.8/dist-packages (from pypet2bids) (2.3.1)\n",
            "Requirement already satisfied: pytest<7.0.0,>=6.2.5 in /usr/local/lib/python3.8/dist-packages (from pypet2bids) (6.2.5)\n",
            "Requirement already satisfied: python-dotenv<0.20.0,>=0.19.1 in /usr/local/lib/python3.8/dist-packages (from pypet2bids) (0.19.2)\n",
            "Requirement already satisfied: pyparsing<4.0.0,>=3.0.4 in /usr/local/lib/python3.8/dist-packages (from pypet2bids) (3.0.9)\n",
            "Requirement already satisfied: six<2.0.0,>=1.16.0 in /usr/local/lib/python3.8/dist-packages (from pypet2bids) (1.16.0)\n",
            "Requirement already satisfied: xlrd<3.0.0,>=2.0.1 in /usr/local/lib/python3.8/dist-packages (from pypet2bids) (2.0.1)\n",
            "Requirement already satisfied: termcolor<2.0.0,>=1.1.0 in /usr/local/lib/python3.8/dist-packages (from pypet2bids) (1.1.0)\n",
            "Requirement already satisfied: sphinx-rtd-theme<2.0.0,>=1.0.0 in /usr/local/lib/python3.8/dist-packages (from pypet2bids) (1.1.1)\n",
            "Requirement already satisfied: json-maj<0.0.8,>=0.0.7 in /usr/local/lib/python3.8/dist-packages (from pypet2bids) (0.0.7)\n",
            "Requirement already satisfied: sphinx<=4.5.0 in /usr/local/lib/python3.8/dist-packages (from pypet2bids) (4.5.0)\n",
            "Requirement already satisfied: pandas<2.0.0,>=1.4.4 in /usr/local/lib/python3.8/dist-packages (from pypet2bids) (1.5.2)\n",
            "Requirement already satisfied: nibabel<4.0.0,>=3.2.1 in /usr/local/lib/python3.8/dist-packages (from pypet2bids) (3.2.2)\n",
            "Requirement already satisfied: python-dateutil<3.0.0,>=2.8.2 in /usr/local/lib/python3.8/dist-packages (from pypet2bids) (2.8.2)\n",
            "Requirement already satisfied: pyxlsb<2.0.0,>=1.0.9 in /usr/local/lib/python3.8/dist-packages (from pypet2bids) (1.0.10)\n",
            "Requirement already satisfied: openpyxl<4.0.0,>=3.0.9 in /usr/local/lib/python3.8/dist-packages (from pypet2bids) (3.0.10)\n",
            "Requirement already satisfied: setuptools in /usr/local/lib/python3.8/dist-packages (from nibabel<4.0.0,>=3.2.1->pypet2bids) (57.4.0)\n",
            "Requirement already satisfied: packaging>=14.3 in /usr/local/lib/python3.8/dist-packages (from nibabel<4.0.0,>=3.2.1->pypet2bids) (21.3)\n",
            "Requirement already satisfied: et-xmlfile in /usr/local/lib/python3.8/dist-packages (from openpyxl<4.0.0,>=3.0.9->pypet2bids) (1.1.0)\n",
            "Requirement already satisfied: pytz>=2020.1 in /usr/local/lib/python3.8/dist-packages (from pandas<2.0.0,>=1.4.4->pypet2bids) (2022.6)\n",
            "Requirement already satisfied: py>=1.8.2 in /usr/local/lib/python3.8/dist-packages (from pytest<7.0.0,>=6.2.5->pypet2bids) (1.11.0)\n",
            "Requirement already satisfied: toml in /usr/local/lib/python3.8/dist-packages (from pytest<7.0.0,>=6.2.5->pypet2bids) (0.10.2)\n",
            "Requirement already satisfied: iniconfig in /usr/local/lib/python3.8/dist-packages (from pytest<7.0.0,>=6.2.5->pypet2bids) (1.1.1)\n",
            "Requirement already satisfied: pluggy<2.0,>=0.12 in /usr/local/lib/python3.8/dist-packages (from pytest<7.0.0,>=6.2.5->pypet2bids) (1.0.0)\n",
            "Requirement already satisfied: attrs>=19.2.0 in /usr/local/lib/python3.8/dist-packages (from pytest<7.0.0,>=6.2.5->pypet2bids) (22.1.0)\n",
            "Requirement already satisfied: Pygments>=2.0 in /usr/local/lib/python3.8/dist-packages (from sphinx<=4.5.0->pypet2bids) (2.6.1)\n",
            "Requirement already satisfied: sphinxcontrib-devhelp in /usr/local/lib/python3.8/dist-packages (from sphinx<=4.5.0->pypet2bids) (1.0.2)\n",
            "Requirement already satisfied: sphinxcontrib-jsmath in /usr/local/lib/python3.8/dist-packages (from sphinx<=4.5.0->pypet2bids) (1.0.1)\n",
            "Requirement already satisfied: sphinxcontrib-applehelp in /usr/local/lib/python3.8/dist-packages (from sphinx<=4.5.0->pypet2bids) (1.0.2)\n",
            "Requirement already satisfied: snowballstemmer>=1.1 in /usr/local/lib/python3.8/dist-packages (from sphinx<=4.5.0->pypet2bids) (2.2.0)\n",
            "Requirement already satisfied: docutils<0.18,>=0.14 in /usr/local/lib/python3.8/dist-packages (from sphinx<=4.5.0->pypet2bids) (0.17.1)\n",
            "Requirement already satisfied: babel>=1.3 in /usr/local/lib/python3.8/dist-packages (from sphinx<=4.5.0->pypet2bids) (2.11.0)\n",
            "Requirement already satisfied: importlib-metadata>=4.4 in /usr/local/lib/python3.8/dist-packages (from sphinx<=4.5.0->pypet2bids) (4.13.0)\n",
            "Requirement already satisfied: sphinxcontrib-serializinghtml>=1.1.5 in /usr/local/lib/python3.8/dist-packages (from sphinx<=4.5.0->pypet2bids) (1.1.5)\n",
            "Requirement already satisfied: alabaster<0.8,>=0.7 in /usr/local/lib/python3.8/dist-packages (from sphinx<=4.5.0->pypet2bids) (0.7.12)\n",
            "Requirement already satisfied: Jinja2>=2.3 in /usr/local/lib/python3.8/dist-packages (from sphinx<=4.5.0->pypet2bids) (2.11.3)\n",
            "Requirement already satisfied: requests>=2.5.0 in /usr/local/lib/python3.8/dist-packages (from sphinx<=4.5.0->pypet2bids) (2.23.0)\n",
            "Requirement already satisfied: imagesize in /usr/local/lib/python3.8/dist-packages (from sphinx<=4.5.0->pypet2bids) (1.4.1)\n",
            "Requirement already satisfied: sphinxcontrib-qthelp in /usr/local/lib/python3.8/dist-packages (from sphinx<=4.5.0->pypet2bids) (1.0.3)\n",
            "Requirement already satisfied: sphinxcontrib-htmlhelp>=2.0.0 in /usr/local/lib/python3.8/dist-packages (from sphinx<=4.5.0->pypet2bids) (2.0.0)\n",
            "Requirement already satisfied: zipp>=0.5 in /usr/local/lib/python3.8/dist-packages (from importlib-metadata>=4.4->sphinx<=4.5.0->pypet2bids) (3.10.0)\n",
            "Requirement already satisfied: MarkupSafe>=0.23 in /usr/local/lib/python3.8/dist-packages (from Jinja2>=2.3->sphinx<=4.5.0->pypet2bids) (2.0.1)\n",
            "Requirement already satisfied: idna<3,>=2.5 in /usr/local/lib/python3.8/dist-packages (from requests>=2.5.0->sphinx<=4.5.0->pypet2bids) (2.10)\n",
            "Requirement already satisfied: certifi>=2017.4.17 in /usr/local/lib/python3.8/dist-packages (from requests>=2.5.0->sphinx<=4.5.0->pypet2bids) (2022.9.24)\n",
            "Requirement already satisfied: urllib3!=1.25.0,!=1.25.1,<1.26,>=1.21.1 in /usr/local/lib/python3.8/dist-packages (from requests>=2.5.0->sphinx<=4.5.0->pypet2bids) (1.24.3)\n",
            "Requirement already satisfied: chardet<4,>=3.0.2 in /usr/local/lib/python3.8/dist-packages (from requests>=2.5.0->sphinx<=4.5.0->pypet2bids) (3.0.4)\n",
            "Requirement already satisfied: future>=0.16.0 in /usr/local/lib/python3.8/dist-packages (from sphinxcontrib-matlabdomain<0.14.0,>=0.13.0->pypet2bids) (0.16.0)\n"
          ]
        }
      ]
    },
    {
      "cell_type": "markdown",
      "source": [
        "## download file and upload the zip file to the Files:\n",
        "[https://drive.google.com/file/d/10S0H7HAnMmxHNpZLlifR14ykIuiXcBAD/view?usp=sharing](https://drive.google.com/file/d/10S0H7HAnMmxHNpZLlifR14ykIuiXcBAD/view?usp=sharing)"
      ],
      "metadata": {
        "id": "ZBHDnhIs3Jbx"
      }
    },
    {
      "cell_type": "code",
      "source": [
        "!unzip OpenNeuroPET-Demo_raw.zip"
      ],
      "metadata": {
        "id": "l0pLs9KqpYsz",
        "colab": {
          "base_uri": "https://localhost:8080/"
        },
        "outputId": "1b7ed79c-8f60-4050-8c20-bef44581d2ab"
      },
      "execution_count": 10,
      "outputs": [
        {
          "output_type": "stream",
          "name": "stdout",
          "text": [
            "Archive:  OpenNeuroPET-Demo_raw.zip\n",
            "   creating: OpenNeuroPET-Demo_raw/\n",
            "  inflating: __MACOSX/._OpenNeuroPET-Demo_raw  \n",
            "  inflating: OpenNeuroPET-Demo_raw/.DS_Store  \n",
            "  inflating: __MACOSX/OpenNeuroPET-Demo_raw/._.DS_Store  \n",
            "   creating: OpenNeuroPET-Demo_raw/sub-SiemensHRRT/\n",
            "  inflating: __MACOSX/OpenNeuroPET-Demo_raw/._sub-SiemensHRRT  \n",
            "   creating: OpenNeuroPET-Demo_raw/source/\n",
            "  inflating: __MACOSX/OpenNeuroPET-Demo_raw/._source  \n",
            "   creating: OpenNeuroPET-Demo_raw/code/\n",
            "  inflating: __MACOSX/OpenNeuroPET-Demo_raw/._code  \n",
            "  inflating: OpenNeuroPET-Demo_raw/README  \n",
            "  inflating: __MACOSX/OpenNeuroPET-Demo_raw/._README  \n",
            "  inflating: OpenNeuroPET-Demo_raw/.bidsignore  \n",
            "  inflating: __MACOSX/OpenNeuroPET-Demo_raw/._.bidsignore  \n",
            "  inflating: OpenNeuroPET-Demo_raw/dataset_description.json  \n",
            "  inflating: __MACOSX/OpenNeuroPET-Demo_raw/._dataset_description.json  \n",
            "   creating: OpenNeuroPET-Demo_raw/sub-SiemensBiographNRU/\n",
            "  inflating: __MACOSX/OpenNeuroPET-Demo_raw/._sub-SiemensBiographNRU  \n",
            "   creating: OpenNeuroPET-Demo_raw/sub-SiemensHRRT/pet/\n",
            "  inflating: __MACOSX/OpenNeuroPET-Demo_raw/sub-SiemensHRRT/._pet  \n",
            "   creating: OpenNeuroPET-Demo_raw/source/SiemensBiographPETMR-NRU/\n",
            "  inflating: __MACOSX/OpenNeuroPET-Demo_raw/source/._SiemensBiographPETMR-NRU  \n",
            "  inflating: OpenNeuroPET-Demo_raw/source/.DS_Store  \n",
            "  inflating: __MACOSX/OpenNeuroPET-Demo_raw/source/._.DS_Store  \n",
            "   creating: OpenNeuroPET-Demo_raw/source/SiemensHRRT-NRU/\n",
            "  inflating: __MACOSX/OpenNeuroPET-Demo_raw/source/._SiemensHRRT-NRU  \n",
            "  inflating: OpenNeuroPET-Demo_raw/code/.python_conversions.sh.swp  \n",
            "  inflating: __MACOSX/OpenNeuroPET-Demo_raw/code/._.python_conversions.sh.swp  \n",
            "  inflating: OpenNeuroPET-Demo_raw/code/README.md  \n",
            "  inflating: __MACOSX/OpenNeuroPET-Demo_raw/code/._README.md  \n",
            "  inflating: OpenNeuroPET-Demo_raw/code/matlab_conversions.m  \n",
            "  inflating: __MACOSX/OpenNeuroPET-Demo_raw/code/._matlab_conversions.m  \n",
            "  inflating: OpenNeuroPET-Demo_raw/code/python_conversions.sh  \n",
            "  inflating: __MACOSX/OpenNeuroPET-Demo_raw/code/._python_conversions.sh  \n",
            "   creating: OpenNeuroPET-Demo_raw/sub-SiemensBiographNRU/pet/\n",
            "  inflating: __MACOSX/OpenNeuroPET-Demo_raw/sub-SiemensBiographNRU/._pet  \n",
            "  inflating: OpenNeuroPET-Demo_raw/sub-SiemensHRRT/pet/sub-SiemensHRRT_pet.json  \n",
            "  inflating: __MACOSX/OpenNeuroPET-Demo_raw/sub-SiemensHRRT/pet/._sub-SiemensHRRT_pet.json  \n",
            "  inflating: OpenNeuroPET-Demo_raw/sub-SiemensHRRT/pet/sub-SiemensHRRT_pet.nii.gz  \n",
            "  inflating: __MACOSX/OpenNeuroPET-Demo_raw/sub-SiemensHRRT/pet/._sub-SiemensHRRT_pet.nii.gz  \n",
            "  inflating: OpenNeuroPET-Demo_raw/source/SiemensBiographPETMR-NRU/X-CAL_7.PT.Kalibrering_xca.30003.109.2022.04.26.15.04.22.218.14690717.dcm  \n",
            "  inflating: __MACOSX/OpenNeuroPET-Demo_raw/source/SiemensBiographPETMR-NRU/._X-CAL_7.PT.Kalibrering_xca.30003.109.2022.04.26.15.04.22.218.14690717.dcm  \n",
            "  inflating: OpenNeuroPET-Demo_raw/source/SiemensBiographPETMR-NRU/X-CAL_7.PT.Kalibrering_xca.30003.22.2022.04.26.15.04.22.218.14689760.dcm  \n",
            "  inflating: __MACOSX/OpenNeuroPET-Demo_raw/source/SiemensBiographPETMR-NRU/._X-CAL_7.PT.Kalibrering_xca.30003.22.2022.04.26.15.04.22.218.14689760.dcm  \n",
            "  inflating: OpenNeuroPET-Demo_raw/source/SiemensBiographPETMR-NRU/X-CAL_7.PT.Kalibrering_xca.30003.116.2022.04.26.15.04.22.218.14690794.dcm  \n",
            "  inflating: __MACOSX/OpenNeuroPET-Demo_raw/source/SiemensBiographPETMR-NRU/._X-CAL_7.PT.Kalibrering_xca.30003.116.2022.04.26.15.04.22.218.14690794.dcm  \n",
            "  inflating: OpenNeuroPET-Demo_raw/source/SiemensBiographPETMR-NRU/X-CAL_7.PT.Kalibrering_xca.30003.65.2022.04.26.15.04.22.218.14690233.dcm  \n",
            "  inflating: __MACOSX/OpenNeuroPET-Demo_raw/source/SiemensBiographPETMR-NRU/._X-CAL_7.PT.Kalibrering_xca.30003.65.2022.04.26.15.04.22.218.14690233.dcm  \n",
            "  inflating: OpenNeuroPET-Demo_raw/source/SiemensBiographPETMR-NRU/X-CAL_7.PT.Kalibrering_xca.30003.100.2022.04.26.15.04.22.218.14690618.dcm  \n",
            "  inflating: __MACOSX/OpenNeuroPET-Demo_raw/source/SiemensBiographPETMR-NRU/._X-CAL_7.PT.Kalibrering_xca.30003.100.2022.04.26.15.04.22.218.14690618.dcm  \n",
            "  inflating: OpenNeuroPET-Demo_raw/source/SiemensBiographPETMR-NRU/X-CAL_7.PT.Kalibrering_xca.30003.27.2022.04.26.15.04.22.218.14689815.dcm  \n",
            "  inflating: __MACOSX/OpenNeuroPET-Demo_raw/source/SiemensBiographPETMR-NRU/._X-CAL_7.PT.Kalibrering_xca.30003.27.2022.04.26.15.04.22.218.14689815.dcm  \n",
            "  inflating: OpenNeuroPET-Demo_raw/source/SiemensBiographPETMR-NRU/X-CAL_7.PT.Kalibrering_xca.30003.38.2022.04.26.15.04.22.218.14689936.dcm  \n",
            "  inflating: __MACOSX/OpenNeuroPET-Demo_raw/source/SiemensBiographPETMR-NRU/._X-CAL_7.PT.Kalibrering_xca.30003.38.2022.04.26.15.04.22.218.14689936.dcm  \n",
            "  inflating: OpenNeuroPET-Demo_raw/source/SiemensBiographPETMR-NRU/X-CAL_7.PT.Kalibrering_xca.30003.64.2022.04.26.15.04.22.218.14690222.dcm  \n",
            "  inflating: __MACOSX/OpenNeuroPET-Demo_raw/source/SiemensBiographPETMR-NRU/._X-CAL_7.PT.Kalibrering_xca.30003.64.2022.04.26.15.04.22.218.14690222.dcm  \n",
            "  inflating: OpenNeuroPET-Demo_raw/source/SiemensBiographPETMR-NRU/X-CAL_7.PT.Kalibrering_xca.30003.114.2022.04.26.15.04.22.218.14690772.dcm  \n",
            "  inflating: __MACOSX/OpenNeuroPET-Demo_raw/source/SiemensBiographPETMR-NRU/._X-CAL_7.PT.Kalibrering_xca.30003.114.2022.04.26.15.04.22.218.14690772.dcm  \n",
            "  inflating: OpenNeuroPET-Demo_raw/source/SiemensBiographPETMR-NRU/X-CAL_7.PT.Kalibrering_xca.30003.26.2022.04.26.15.04.22.218.14689804.dcm  \n",
            "  inflating: __MACOSX/OpenNeuroPET-Demo_raw/source/SiemensBiographPETMR-NRU/._X-CAL_7.PT.Kalibrering_xca.30003.26.2022.04.26.15.04.22.218.14689804.dcm  \n",
            "  inflating: OpenNeuroPET-Demo_raw/source/SiemensBiographPETMR-NRU/X-CAL_7.PT.Kalibrering_xca.30003.108.2022.04.26.15.04.22.218.14690706.dcm  \n",
            "  inflating: __MACOSX/OpenNeuroPET-Demo_raw/source/SiemensBiographPETMR-NRU/._X-CAL_7.PT.Kalibrering_xca.30003.108.2022.04.26.15.04.22.218.14690706.dcm  \n",
            "  inflating: OpenNeuroPET-Demo_raw/source/SiemensBiographPETMR-NRU/X-CAL_7.PT.Kalibrering_xca.30003.23.2022.04.26.15.04.22.218.14689771.dcm  \n",
            "  inflating: __MACOSX/OpenNeuroPET-Demo_raw/source/SiemensBiographPETMR-NRU/._X-CAL_7.PT.Kalibrering_xca.30003.23.2022.04.26.15.04.22.218.14689771.dcm  \n",
            "  inflating: OpenNeuroPET-Demo_raw/source/SiemensBiographPETMR-NRU/X-CAL_7.PT.Kalibrering_xca.30003.40.2022.04.26.15.04.22.218.14689958.dcm  \n",
            "  inflating: __MACOSX/OpenNeuroPET-Demo_raw/source/SiemensBiographPETMR-NRU/._X-CAL_7.PT.Kalibrering_xca.30003.40.2022.04.26.15.04.22.218.14689958.dcm  \n",
            "  inflating: OpenNeuroPET-Demo_raw/source/SiemensBiographPETMR-NRU/X-CAL_7.PT.Kalibrering_xca.30003.1.2022.04.26.15.04.22.218.14689529.dcm  \n",
            "  inflating: __MACOSX/OpenNeuroPET-Demo_raw/source/SiemensBiographPETMR-NRU/._X-CAL_7.PT.Kalibrering_xca.30003.1.2022.04.26.15.04.22.218.14689529.dcm  \n",
            "  inflating: OpenNeuroPET-Demo_raw/source/SiemensBiographPETMR-NRU/X-CAL_7.PT.Kalibrering_xca.30003.42.2022.04.26.15.04.22.218.14689980.dcm  \n",
            "  inflating: __MACOSX/OpenNeuroPET-Demo_raw/source/SiemensBiographPETMR-NRU/._X-CAL_7.PT.Kalibrering_xca.30003.42.2022.04.26.15.04.22.218.14689980.dcm  \n",
            "  inflating: OpenNeuroPET-Demo_raw/source/SiemensBiographPETMR-NRU/X-CAL_7.PT.Kalibrering_xca.30003.99.2022.04.26.15.04.22.218.14690607.dcm  \n",
            "  inflating: __MACOSX/OpenNeuroPET-Demo_raw/source/SiemensBiographPETMR-NRU/._X-CAL_7.PT.Kalibrering_xca.30003.99.2022.04.26.15.04.22.218.14690607.dcm  \n",
            "  inflating: OpenNeuroPET-Demo_raw/source/SiemensBiographPETMR-NRU/X-CAL_7.PT.Kalibrering_xca.30003.61.2022.04.26.15.04.22.218.14690189.dcm  \n",
            "  inflating: __MACOSX/OpenNeuroPET-Demo_raw/source/SiemensBiographPETMR-NRU/._X-CAL_7.PT.Kalibrering_xca.30003.61.2022.04.26.15.04.22.218.14690189.dcm  \n",
            "  inflating: OpenNeuroPET-Demo_raw/source/SiemensBiographPETMR-NRU/X-CAL_7.PT.Kalibrering_xca.30003.91.2022.04.26.15.04.22.218.14690519.dcm  \n",
            "  inflating: __MACOSX/OpenNeuroPET-Demo_raw/source/SiemensBiographPETMR-NRU/._X-CAL_7.PT.Kalibrering_xca.30003.91.2022.04.26.15.04.22.218.14690519.dcm  \n",
            "  inflating: OpenNeuroPET-Demo_raw/source/SiemensBiographPETMR-NRU/X-CAL_7.PT.Kalibrering_xca.30003.117.2022.04.26.15.04.22.218.14690805.dcm  \n",
            "  inflating: __MACOSX/OpenNeuroPET-Demo_raw/source/SiemensBiographPETMR-NRU/._X-CAL_7.PT.Kalibrering_xca.30003.117.2022.04.26.15.04.22.218.14690805.dcm  \n",
            "  inflating: OpenNeuroPET-Demo_raw/source/SiemensBiographPETMR-NRU/X-CAL_7.PT.Kalibrering_xca.30003.49.2022.04.26.15.04.22.218.14690057.dcm  \n",
            "  inflating: __MACOSX/OpenNeuroPET-Demo_raw/source/SiemensBiographPETMR-NRU/._X-CAL_7.PT.Kalibrering_xca.30003.49.2022.04.26.15.04.22.218.14690057.dcm  \n",
            "  inflating: OpenNeuroPET-Demo_raw/source/SiemensBiographPETMR-NRU/X-CAL_7.PT.Kalibrering_xca.30003.120.2022.04.26.15.04.22.218.14690838.dcm  \n",
            "  inflating: __MACOSX/OpenNeuroPET-Demo_raw/source/SiemensBiographPETMR-NRU/._X-CAL_7.PT.Kalibrering_xca.30003.120.2022.04.26.15.04.22.218.14690838.dcm  \n",
            "  inflating: OpenNeuroPET-Demo_raw/source/SiemensBiographPETMR-NRU/X-CAL_7.PT.Kalibrering_xca.30003.90.2022.04.26.15.04.22.218.14690508.dcm  \n",
            "  inflating: __MACOSX/OpenNeuroPET-Demo_raw/source/SiemensBiographPETMR-NRU/._X-CAL_7.PT.Kalibrering_xca.30003.90.2022.04.26.15.04.22.218.14690508.dcm  \n",
            "  inflating: OpenNeuroPET-Demo_raw/source/SiemensBiographPETMR-NRU/X-CAL_7.PT.Kalibrering_xca.30003.75.2022.04.26.15.04.22.218.14690343.dcm  \n",
            "  inflating: __MACOSX/OpenNeuroPET-Demo_raw/source/SiemensBiographPETMR-NRU/._X-CAL_7.PT.Kalibrering_xca.30003.75.2022.04.26.15.04.22.218.14690343.dcm  \n",
            "  inflating: OpenNeuroPET-Demo_raw/source/SiemensBiographPETMR-NRU/X-CAL_7.PT.Kalibrering_xca.30003.48.2022.04.26.15.04.22.218.14690046.dcm  \n",
            "  inflating: __MACOSX/OpenNeuroPET-Demo_raw/source/SiemensBiographPETMR-NRU/._X-CAL_7.PT.Kalibrering_xca.30003.48.2022.04.26.15.04.22.218.14690046.dcm  \n",
            "  inflating: OpenNeuroPET-Demo_raw/source/SiemensBiographPETMR-NRU/X-CAL_7.PT.Kalibrering_xca.30003.18.2022.04.26.15.04.22.218.14689716.dcm  \n",
            "  inflating: __MACOSX/OpenNeuroPET-Demo_raw/source/SiemensBiographPETMR-NRU/._X-CAL_7.PT.Kalibrering_xca.30003.18.2022.04.26.15.04.22.218.14689716.dcm  \n",
            "  inflating: OpenNeuroPET-Demo_raw/source/SiemensBiographPETMR-NRU/X-CAL_7.PT.Kalibrering_xca.30003.113.2022.04.26.15.04.22.218.14690761.dcm  \n",
            "  inflating: __MACOSX/OpenNeuroPET-Demo_raw/source/SiemensBiographPETMR-NRU/._X-CAL_7.PT.Kalibrering_xca.30003.113.2022.04.26.15.04.22.218.14690761.dcm  \n",
            "  inflating: OpenNeuroPET-Demo_raw/source/SiemensBiographPETMR-NRU/X-CAL_7.PT.Kalibrering_xca.30003.43.2022.04.26.15.04.22.218.14689991.dcm  \n",
            "  inflating: __MACOSX/OpenNeuroPET-Demo_raw/source/SiemensBiographPETMR-NRU/._X-CAL_7.PT.Kalibrering_xca.30003.43.2022.04.26.15.04.22.218.14689991.dcm  \n",
            "  inflating: OpenNeuroPET-Demo_raw/source/SiemensBiographPETMR-NRU/X-CAL_7.PT.Kalibrering_xca.30003.77.2022.04.26.15.04.22.218.14690365.dcm  \n",
            "  inflating: __MACOSX/OpenNeuroPET-Demo_raw/source/SiemensBiographPETMR-NRU/._X-CAL_7.PT.Kalibrering_xca.30003.77.2022.04.26.15.04.22.218.14690365.dcm  \n",
            "  inflating: OpenNeuroPET-Demo_raw/source/SiemensBiographPETMR-NRU/X-CAL_7.PT.Kalibrering_xca.30003.119.2022.04.26.15.04.22.218.14690827.dcm  \n",
            "  inflating: __MACOSX/OpenNeuroPET-Demo_raw/source/SiemensBiographPETMR-NRU/._X-CAL_7.PT.Kalibrering_xca.30003.119.2022.04.26.15.04.22.218.14690827.dcm  \n",
            "  inflating: OpenNeuroPET-Demo_raw/source/SiemensBiographPETMR-NRU/X-CAL_7.PT.Kalibrering_xca.30003.79.2022.04.26.15.04.22.218.14690387.dcm  \n",
            "  inflating: __MACOSX/OpenNeuroPET-Demo_raw/source/SiemensBiographPETMR-NRU/._X-CAL_7.PT.Kalibrering_xca.30003.79.2022.04.26.15.04.22.218.14690387.dcm  \n",
            "  inflating: OpenNeuroPET-Demo_raw/source/SiemensBiographPETMR-NRU/X-CAL_7.PT.Kalibrering_xca.30003.81.2022.04.26.15.04.22.218.14690409.dcm  \n",
            "  inflating: __MACOSX/OpenNeuroPET-Demo_raw/source/SiemensBiographPETMR-NRU/._X-CAL_7.PT.Kalibrering_xca.30003.81.2022.04.26.15.04.22.218.14690409.dcm  \n",
            "  inflating: OpenNeuroPET-Demo_raw/source/SiemensBiographPETMR-NRU/X-CAL_7.PT.Kalibrering_xca.30003.97.2022.04.26.15.04.22.218.14690585.dcm  \n",
            "  inflating: __MACOSX/OpenNeuroPET-Demo_raw/source/SiemensBiographPETMR-NRU/._X-CAL_7.PT.Kalibrering_xca.30003.97.2022.04.26.15.04.22.218.14690585.dcm  \n",
            "  inflating: OpenNeuroPET-Demo_raw/source/SiemensBiographPETMR-NRU/X-CAL_7.PT.Kalibrering_xca.30003.16.2022.04.26.15.04.22.218.14689694.dcm  \n",
            "  inflating: __MACOSX/OpenNeuroPET-Demo_raw/source/SiemensBiographPETMR-NRU/._X-CAL_7.PT.Kalibrering_xca.30003.16.2022.04.26.15.04.22.218.14689694.dcm  \n",
            "  inflating: OpenNeuroPET-Demo_raw/source/SiemensBiographPETMR-NRU/X-CAL_7.PT.Kalibrering_xca.30003.31.2022.04.26.15.04.22.218.14689859.dcm  \n",
            "  inflating: __MACOSX/OpenNeuroPET-Demo_raw/source/SiemensBiographPETMR-NRU/._X-CAL_7.PT.Kalibrering_xca.30003.31.2022.04.26.15.04.22.218.14689859.dcm  \n",
            "  inflating: OpenNeuroPET-Demo_raw/source/SiemensBiographPETMR-NRU/X-CAL_7.PT.Kalibrering_xca.30003.124.2022.04.26.15.04.22.218.14690882.dcm  \n",
            "  inflating: __MACOSX/OpenNeuroPET-Demo_raw/source/SiemensBiographPETMR-NRU/._X-CAL_7.PT.Kalibrering_xca.30003.124.2022.04.26.15.04.22.218.14690882.dcm  \n",
            "  inflating: OpenNeuroPET-Demo_raw/source/SiemensBiographPETMR-NRU/X-CAL_7.PT.Kalibrering_xca.30003.127.2022.04.26.15.04.22.218.14690915.dcm  \n",
            "  inflating: __MACOSX/OpenNeuroPET-Demo_raw/source/SiemensBiographPETMR-NRU/._X-CAL_7.PT.Kalibrering_xca.30003.127.2022.04.26.15.04.22.218.14690915.dcm  \n",
            "  inflating: OpenNeuroPET-Demo_raw/source/SiemensBiographPETMR-NRU/X-CAL_7.PT.Kalibrering_xca.30003.70.2022.04.26.15.04.22.218.14690288.dcm  \n",
            "  inflating: __MACOSX/OpenNeuroPET-Demo_raw/source/SiemensBiographPETMR-NRU/._X-CAL_7.PT.Kalibrering_xca.30003.70.2022.04.26.15.04.22.218.14690288.dcm  \n",
            "  inflating: OpenNeuroPET-Demo_raw/source/SiemensBiographPETMR-NRU/X-CAL_7.PT.Kalibrering_xca.30003.33.2022.04.26.15.04.22.218.14689881.dcm  \n",
            "  inflating: __MACOSX/OpenNeuroPET-Demo_raw/source/SiemensBiographPETMR-NRU/._X-CAL_7.PT.Kalibrering_xca.30003.33.2022.04.26.15.04.22.218.14689881.dcm  \n",
            "  inflating: OpenNeuroPET-Demo_raw/source/SiemensBiographPETMR-NRU/X-CAL_7.PT.Kalibrering_xca.30003.52.2022.04.26.15.04.22.218.14690090.dcm  \n",
            "  inflating: __MACOSX/OpenNeuroPET-Demo_raw/source/SiemensBiographPETMR-NRU/._X-CAL_7.PT.Kalibrering_xca.30003.52.2022.04.26.15.04.22.218.14690090.dcm  \n",
            "  inflating: OpenNeuroPET-Demo_raw/source/SiemensBiographPETMR-NRU/X-CAL_7.PT.Kalibrering_xca.30003.125.2022.04.26.15.04.22.218.14690893.dcm  \n",
            "  inflating: __MACOSX/OpenNeuroPET-Demo_raw/source/SiemensBiographPETMR-NRU/._X-CAL_7.PT.Kalibrering_xca.30003.125.2022.04.26.15.04.22.218.14690893.dcm  \n",
            "  inflating: OpenNeuroPET-Demo_raw/source/SiemensBiographPETMR-NRU/X-CAL_7.PT.Kalibrering_xca.30003.30.2022.04.26.15.04.22.218.14689848.dcm  \n",
            "  inflating: __MACOSX/OpenNeuroPET-Demo_raw/source/SiemensBiographPETMR-NRU/._X-CAL_7.PT.Kalibrering_xca.30003.30.2022.04.26.15.04.22.218.14689848.dcm  \n",
            "  inflating: OpenNeuroPET-Demo_raw/source/SiemensBiographPETMR-NRU/X-CAL_7.PT.Kalibrering_xca.30003.14.2022.04.26.15.04.22.218.14689672.dcm  \n",
            "  inflating: __MACOSX/OpenNeuroPET-Demo_raw/source/SiemensBiographPETMR-NRU/._X-CAL_7.PT.Kalibrering_xca.30003.14.2022.04.26.15.04.22.218.14689672.dcm  \n",
            "  inflating: OpenNeuroPET-Demo_raw/source/SiemensBiographPETMR-NRU/X-CAL_7.PT.Kalibrering_xca.30003.73.2022.04.26.15.04.22.218.14690321.dcm  \n",
            "  inflating: __MACOSX/OpenNeuroPET-Demo_raw/source/SiemensBiographPETMR-NRU/._X-CAL_7.PT.Kalibrering_xca.30003.73.2022.04.26.15.04.22.218.14690321.dcm  \n",
            "  inflating: OpenNeuroPET-Demo_raw/source/SiemensBiographPETMR-NRU/X-CAL_7.PT.Kalibrering_xca.30003.126.2022.04.26.15.04.22.218.14690904.dcm  \n",
            "  inflating: __MACOSX/OpenNeuroPET-Demo_raw/source/SiemensBiographPETMR-NRU/._X-CAL_7.PT.Kalibrering_xca.30003.126.2022.04.26.15.04.22.218.14690904.dcm  \n",
            "  inflating: OpenNeuroPET-Demo_raw/source/SiemensBiographPETMR-NRU/X-CAL_7.PT.Kalibrering_xca.30003.71.2022.04.26.15.04.22.218.14690299.dcm  \n",
            "  inflating: __MACOSX/OpenNeuroPET-Demo_raw/source/SiemensBiographPETMR-NRU/._X-CAL_7.PT.Kalibrering_xca.30003.71.2022.04.26.15.04.22.218.14690299.dcm  \n",
            "  inflating: OpenNeuroPET-Demo_raw/source/SiemensBiographPETMR-NRU/X-CAL_7.PT.Kalibrering_xca.30003.58.2022.04.26.15.04.22.218.14690156.dcm  \n",
            "  inflating: __MACOSX/OpenNeuroPET-Demo_raw/source/SiemensBiographPETMR-NRU/._X-CAL_7.PT.Kalibrering_xca.30003.58.2022.04.26.15.04.22.218.14690156.dcm  \n",
            "  inflating: OpenNeuroPET-Demo_raw/source/SiemensBiographPETMR-NRU/X-CAL_7.PT.Kalibrering_xca.30003.39.2022.04.26.15.04.22.218.14689947.dcm  \n",
            "  inflating: __MACOSX/OpenNeuroPET-Demo_raw/source/SiemensBiographPETMR-NRU/._X-CAL_7.PT.Kalibrering_xca.30003.39.2022.04.26.15.04.22.218.14689947.dcm  \n",
            "  inflating: OpenNeuroPET-Demo_raw/source/SiemensBiographPETMR-NRU/X-CAL_7.PT.Kalibrering_xca.30003.95.2022.04.26.15.04.22.218.14690563.dcm  \n",
            "  inflating: __MACOSX/OpenNeuroPET-Demo_raw/source/SiemensBiographPETMR-NRU/._X-CAL_7.PT.Kalibrering_xca.30003.95.2022.04.26.15.04.22.218.14690563.dcm  \n",
            "  inflating: OpenNeuroPET-Demo_raw/source/SiemensBiographPETMR-NRU/X-CAL_7.PT.Kalibrering_xca.30003.3.2022.04.26.15.04.22.218.14689551.dcm  \n",
            "  inflating: __MACOSX/OpenNeuroPET-Demo_raw/source/SiemensBiographPETMR-NRU/._X-CAL_7.PT.Kalibrering_xca.30003.3.2022.04.26.15.04.22.218.14689551.dcm  \n",
            "  inflating: OpenNeuroPET-Demo_raw/source/SiemensBiographPETMR-NRU/X-CAL_7.PT.Kalibrering_xca.30003.106.2022.04.26.15.04.22.218.14690684.dcm  \n",
            "  inflating: __MACOSX/OpenNeuroPET-Demo_raw/source/SiemensBiographPETMR-NRU/._X-CAL_7.PT.Kalibrering_xca.30003.106.2022.04.26.15.04.22.218.14690684.dcm  \n",
            "  inflating: OpenNeuroPET-Demo_raw/source/SiemensBiographPETMR-NRU/X-CAL_7.PT.Kalibrering_xca.30003.105.2022.04.26.15.04.22.218.14690673.dcm  \n",
            "  inflating: __MACOSX/OpenNeuroPET-Demo_raw/source/SiemensBiographPETMR-NRU/._X-CAL_7.PT.Kalibrering_xca.30003.105.2022.04.26.15.04.22.218.14690673.dcm  \n",
            "  inflating: OpenNeuroPET-Demo_raw/source/SiemensBiographPETMR-NRU/X-CAL_7.PT.Kalibrering_xca.30003.121.2022.04.26.15.04.22.218.14690849.dcm  \n",
            "  inflating: __MACOSX/OpenNeuroPET-Demo_raw/source/SiemensBiographPETMR-NRU/._X-CAL_7.PT.Kalibrering_xca.30003.121.2022.04.26.15.04.22.218.14690849.dcm  \n",
            "  inflating: OpenNeuroPET-Demo_raw/source/SiemensBiographPETMR-NRU/X-CAL_7.PT.Kalibrering_xca.30003.29.2022.04.26.15.04.22.218.14689837.dcm  \n",
            "  inflating: __MACOSX/OpenNeuroPET-Demo_raw/source/SiemensBiographPETMR-NRU/._X-CAL_7.PT.Kalibrering_xca.30003.29.2022.04.26.15.04.22.218.14689837.dcm  \n",
            "  inflating: OpenNeuroPET-Demo_raw/source/SiemensBiographPETMR-NRU/X-CAL_7.PT.Kalibrering_xca.30003.34.2022.04.26.15.04.22.218.14689892.dcm  \n",
            "  inflating: __MACOSX/OpenNeuroPET-Demo_raw/source/SiemensBiographPETMR-NRU/._X-CAL_7.PT.Kalibrering_xca.30003.34.2022.04.26.15.04.22.218.14689892.dcm  \n",
            "  inflating: OpenNeuroPET-Demo_raw/source/SiemensBiographPETMR-NRU/X-CAL_7.PT.Kalibrering_xca.30003.55.2022.04.26.15.04.22.218.14690123.dcm  \n",
            "  inflating: __MACOSX/OpenNeuroPET-Demo_raw/source/SiemensBiographPETMR-NRU/._X-CAL_7.PT.Kalibrering_xca.30003.55.2022.04.26.15.04.22.218.14690123.dcm  \n",
            "  inflating: OpenNeuroPET-Demo_raw/source/SiemensBiographPETMR-NRU/X-CAL_7.PT.Kalibrering_xca.30003.13.2022.04.26.15.04.22.218.14689661.dcm  \n",
            "  inflating: __MACOSX/OpenNeuroPET-Demo_raw/source/SiemensBiographPETMR-NRU/._X-CAL_7.PT.Kalibrering_xca.30003.13.2022.04.26.15.04.22.218.14689661.dcm  \n",
            "  inflating: OpenNeuroPET-Demo_raw/source/SiemensBiographPETMR-NRU/X-CAL_7.PT.Kalibrering_xca.30003.36.2022.04.26.15.04.22.218.14689914.dcm  \n",
            "  inflating: __MACOSX/OpenNeuroPET-Demo_raw/source/SiemensBiographPETMR-NRU/._X-CAL_7.PT.Kalibrering_xca.30003.36.2022.04.26.15.04.22.218.14689914.dcm  \n",
            "  inflating: OpenNeuroPET-Demo_raw/source/SiemensBiographPETMR-NRU/X-CAL_7.PT.Kalibrering_xca.30003.2.2022.04.26.15.04.22.218.14689540.dcm  \n",
            "  inflating: __MACOSX/OpenNeuroPET-Demo_raw/source/SiemensBiographPETMR-NRU/._X-CAL_7.PT.Kalibrering_xca.30003.2.2022.04.26.15.04.22.218.14689540.dcm  \n",
            "  inflating: OpenNeuroPET-Demo_raw/source/SiemensBiographPETMR-NRU/X-CAL_7.PT.Kalibrering_xca.30003.28.2022.04.26.15.04.22.218.14689826.dcm  \n",
            "  inflating: __MACOSX/OpenNeuroPET-Demo_raw/source/SiemensBiographPETMR-NRU/._X-CAL_7.PT.Kalibrering_xca.30003.28.2022.04.26.15.04.22.218.14689826.dcm  \n",
            "  inflating: OpenNeuroPET-Demo_raw/source/SiemensBiographPETMR-NRU/X-CAL_7.PT.Kalibrering_xca.30003.107.2022.04.26.15.04.22.218.14690695.dcm  \n",
            "  inflating: __MACOSX/OpenNeuroPET-Demo_raw/source/SiemensBiographPETMR-NRU/._X-CAL_7.PT.Kalibrering_xca.30003.107.2022.04.26.15.04.22.218.14690695.dcm  \n",
            "  inflating: OpenNeuroPET-Demo_raw/source/SiemensBiographPETMR-NRU/X-CAL_7.PT.Kalibrering_xca.30003.74.2022.04.26.15.04.22.218.14690332.dcm  \n",
            "  inflating: __MACOSX/OpenNeuroPET-Demo_raw/source/SiemensBiographPETMR-NRU/._X-CAL_7.PT.Kalibrering_xca.30003.74.2022.04.26.15.04.22.218.14690332.dcm  \n",
            "  inflating: OpenNeuroPET-Demo_raw/source/SiemensBiographPETMR-NRU/X-CAL_7.PT.Kalibrering_xca.30003.104.2022.04.26.15.04.22.218.14690662.dcm  \n",
            "  inflating: __MACOSX/OpenNeuroPET-Demo_raw/source/SiemensBiographPETMR-NRU/._X-CAL_7.PT.Kalibrering_xca.30003.104.2022.04.26.15.04.22.218.14690662.dcm  \n",
            "  inflating: OpenNeuroPET-Demo_raw/source/SiemensBiographPETMR-NRU/X-CAL_7.PT.Kalibrering_xca.30003.102.2022.04.26.15.04.22.218.14690640.dcm  \n",
            "  inflating: __MACOSX/OpenNeuroPET-Demo_raw/source/SiemensBiographPETMR-NRU/._X-CAL_7.PT.Kalibrering_xca.30003.102.2022.04.26.15.04.22.218.14690640.dcm  \n",
            "  inflating: OpenNeuroPET-Demo_raw/source/SiemensBiographPETMR-NRU/X-CAL_7.PT.Kalibrering_xca.30003.72.2022.04.26.15.04.22.218.14690310.dcm  \n",
            "  inflating: __MACOSX/OpenNeuroPET-Demo_raw/source/SiemensBiographPETMR-NRU/._X-CAL_7.PT.Kalibrering_xca.30003.72.2022.04.26.15.04.22.218.14690310.dcm  \n",
            "  inflating: OpenNeuroPET-Demo_raw/source/SiemensBiographPETMR-NRU/X-CAL_7.PT.Kalibrering_xca.30003.78.2022.04.26.15.04.22.218.14690376.dcm  \n",
            "  inflating: __MACOSX/OpenNeuroPET-Demo_raw/source/SiemensBiographPETMR-NRU/._X-CAL_7.PT.Kalibrering_xca.30003.78.2022.04.26.15.04.22.218.14690376.dcm  \n",
            "  inflating: OpenNeuroPET-Demo_raw/source/SiemensBiographPETMR-NRU/X-CAL_7.PT.Kalibrering_xca.30003.96.2022.04.26.15.04.22.218.14690574.dcm  \n",
            "  inflating: __MACOSX/OpenNeuroPET-Demo_raw/source/SiemensBiographPETMR-NRU/._X-CAL_7.PT.Kalibrering_xca.30003.96.2022.04.26.15.04.22.218.14690574.dcm  \n",
            "  inflating: OpenNeuroPET-Demo_raw/source/SiemensBiographPETMR-NRU/X-CAL_7.PT.Kalibrering_xca.30003.50.2022.04.26.15.04.22.218.14690068.dcm  \n",
            "  inflating: __MACOSX/OpenNeuroPET-Demo_raw/source/SiemensBiographPETMR-NRU/._X-CAL_7.PT.Kalibrering_xca.30003.50.2022.04.26.15.04.22.218.14690068.dcm  \n",
            "  inflating: OpenNeuroPET-Demo_raw/source/SiemensBiographPETMR-NRU/X-CAL_7.PT.Kalibrering_xca.30003.4.2022.04.26.15.04.22.218.14689562.dcm  \n",
            "  inflating: __MACOSX/OpenNeuroPET-Demo_raw/source/SiemensBiographPETMR-NRU/._X-CAL_7.PT.Kalibrering_xca.30003.4.2022.04.26.15.04.22.218.14689562.dcm  \n",
            "  inflating: OpenNeuroPET-Demo_raw/source/SiemensBiographPETMR-NRU/X-CAL_7.PT.Kalibrering_xca.30003.7.2022.04.26.15.04.22.218.14689595.dcm  \n",
            "  inflating: __MACOSX/OpenNeuroPET-Demo_raw/source/SiemensBiographPETMR-NRU/._X-CAL_7.PT.Kalibrering_xca.30003.7.2022.04.26.15.04.22.218.14689595.dcm  \n",
            "  inflating: OpenNeuroPET-Demo_raw/source/SiemensBiographPETMR-NRU/X-CAL_7.PT.Kalibrering_xca.30003.82.2022.04.26.15.04.22.218.14690420.dcm  \n",
            "  inflating: __MACOSX/OpenNeuroPET-Demo_raw/source/SiemensBiographPETMR-NRU/._X-CAL_7.PT.Kalibrering_xca.30003.82.2022.04.26.15.04.22.218.14690420.dcm  \n",
            "  inflating: OpenNeuroPET-Demo_raw/source/SiemensBiographPETMR-NRU/X-CAL_7.PT.Kalibrering_xca.30003.66.2022.04.26.15.04.22.218.14690244.dcm  \n",
            "  inflating: __MACOSX/OpenNeuroPET-Demo_raw/source/SiemensBiographPETMR-NRU/._X-CAL_7.PT.Kalibrering_xca.30003.66.2022.04.26.15.04.22.218.14690244.dcm  \n",
            "  inflating: OpenNeuroPET-Demo_raw/source/SiemensBiographPETMR-NRU/X-CAL_7.PT.Kalibrering_xca.30003.94.2022.04.26.15.04.22.218.14690552.dcm  \n",
            "  inflating: __MACOSX/OpenNeuroPET-Demo_raw/source/SiemensBiographPETMR-NRU/._X-CAL_7.PT.Kalibrering_xca.30003.94.2022.04.26.15.04.22.218.14690552.dcm  \n",
            "  inflating: OpenNeuroPET-Demo_raw/source/SiemensBiographPETMR-NRU/X-CAL_7.PT.Kalibrering_xca.30003.32.2022.04.26.15.04.22.218.14689870.dcm  \n",
            "  inflating: __MACOSX/OpenNeuroPET-Demo_raw/source/SiemensBiographPETMR-NRU/._X-CAL_7.PT.Kalibrering_xca.30003.32.2022.04.26.15.04.22.218.14689870.dcm  \n",
            "  inflating: OpenNeuroPET-Demo_raw/source/SiemensBiographPETMR-NRU/X-CAL_7.PT.Kalibrering_xca.30003.17.2022.04.26.15.04.22.218.14689705.dcm  \n",
            "  inflating: __MACOSX/OpenNeuroPET-Demo_raw/source/SiemensBiographPETMR-NRU/._X-CAL_7.PT.Kalibrering_xca.30003.17.2022.04.26.15.04.22.218.14689705.dcm  \n",
            "  inflating: OpenNeuroPET-Demo_raw/source/SiemensBiographPETMR-NRU/X-CAL_7.PT.Kalibrering_xca.30003.53.2022.04.26.15.04.22.218.14690101.dcm  \n",
            "  inflating: __MACOSX/OpenNeuroPET-Demo_raw/source/SiemensBiographPETMR-NRU/._X-CAL_7.PT.Kalibrering_xca.30003.53.2022.04.26.15.04.22.218.14690101.dcm  \n",
            "  inflating: OpenNeuroPET-Demo_raw/source/SiemensBiographPETMR-NRU/X-CAL_7.PT.Kalibrering_xca.30003.59.2022.04.26.15.04.22.218.14690167.dcm  \n",
            "  inflating: __MACOSX/OpenNeuroPET-Demo_raw/source/SiemensBiographPETMR-NRU/._X-CAL_7.PT.Kalibrering_xca.30003.59.2022.04.26.15.04.22.218.14690167.dcm  \n",
            "  inflating: OpenNeuroPET-Demo_raw/source/SiemensBiographPETMR-NRU/X-CAL_7.PT.Kalibrering_xca.30003.20.2022.04.26.15.04.22.218.14689738.dcm  \n",
            "  inflating: __MACOSX/OpenNeuroPET-Demo_raw/source/SiemensBiographPETMR-NRU/._X-CAL_7.PT.Kalibrering_xca.30003.20.2022.04.26.15.04.22.218.14689738.dcm  \n",
            "  inflating: OpenNeuroPET-Demo_raw/source/SiemensBiographPETMR-NRU/X-CAL_7.PT.Kalibrering_xca.30003.89.2022.04.26.15.04.22.218.14690497.dcm  \n",
            "  inflating: __MACOSX/OpenNeuroPET-Demo_raw/source/SiemensBiographPETMR-NRU/._X-CAL_7.PT.Kalibrering_xca.30003.89.2022.04.26.15.04.22.218.14690497.dcm  \n",
            "  inflating: OpenNeuroPET-Demo_raw/source/SiemensBiographPETMR-NRU/X-CAL_7.PT.Kalibrering_xca.30003.88.2022.04.26.15.04.22.218.14690486.dcm  \n",
            "  inflating: __MACOSX/OpenNeuroPET-Demo_raw/source/SiemensBiographPETMR-NRU/._X-CAL_7.PT.Kalibrering_xca.30003.88.2022.04.26.15.04.22.218.14690486.dcm  \n",
            "  inflating: OpenNeuroPET-Demo_raw/source/SiemensBiographPETMR-NRU/X-CAL_7.PT.Kalibrering_xca.30003.118.2022.04.26.15.04.22.218.14690816.dcm  \n",
            "  inflating: __MACOSX/OpenNeuroPET-Demo_raw/source/SiemensBiographPETMR-NRU/._X-CAL_7.PT.Kalibrering_xca.30003.118.2022.04.26.15.04.22.218.14690816.dcm  \n",
            "  inflating: OpenNeuroPET-Demo_raw/source/SiemensBiographPETMR-NRU/X-CAL_7.PT.Kalibrering_xca.30003.15.2022.04.26.15.04.22.218.14689683.dcm  \n",
            "  inflating: __MACOSX/OpenNeuroPET-Demo_raw/source/SiemensBiographPETMR-NRU/._X-CAL_7.PT.Kalibrering_xca.30003.15.2022.04.26.15.04.22.218.14689683.dcm  \n",
            "  inflating: OpenNeuroPET-Demo_raw/source/SiemensBiographPETMR-NRU/X-CAL_7.PT.Kalibrering_xca.30003.103.2022.04.26.15.04.22.218.14690651.dcm  \n",
            "  inflating: __MACOSX/OpenNeuroPET-Demo_raw/source/SiemensBiographPETMR-NRU/._X-CAL_7.PT.Kalibrering_xca.30003.103.2022.04.26.15.04.22.218.14690651.dcm  \n",
            "  inflating: OpenNeuroPET-Demo_raw/source/SiemensBiographPETMR-NRU/X-CAL_7.PT.Kalibrering_xca.30003.67.2022.04.26.15.04.22.218.14690255.dcm  \n",
            "  inflating: __MACOSX/OpenNeuroPET-Demo_raw/source/SiemensBiographPETMR-NRU/._X-CAL_7.PT.Kalibrering_xca.30003.67.2022.04.26.15.04.22.218.14690255.dcm  \n",
            "  inflating: OpenNeuroPET-Demo_raw/source/SiemensBiographPETMR-NRU/X-CAL_7.PT.Kalibrering_xca.30003.51.2022.04.26.15.04.22.218.14690079.dcm  \n",
            "  inflating: __MACOSX/OpenNeuroPET-Demo_raw/source/SiemensBiographPETMR-NRU/._X-CAL_7.PT.Kalibrering_xca.30003.51.2022.04.26.15.04.22.218.14690079.dcm  \n",
            "  inflating: OpenNeuroPET-Demo_raw/source/SiemensBiographPETMR-NRU/X-CAL_7.PT.Kalibrering_xca.30003.5.2022.04.26.15.04.22.218.14689573.dcm  \n",
            "  inflating: __MACOSX/OpenNeuroPET-Demo_raw/source/SiemensBiographPETMR-NRU/._X-CAL_7.PT.Kalibrering_xca.30003.5.2022.04.26.15.04.22.218.14689573.dcm  \n",
            "  inflating: OpenNeuroPET-Demo_raw/source/SiemensBiographPETMR-NRU/X-CAL_7.PT.Kalibrering_xca.30003.83.2022.04.26.15.04.22.218.14690431.dcm  \n",
            "  inflating: __MACOSX/OpenNeuroPET-Demo_raw/source/SiemensBiographPETMR-NRU/._X-CAL_7.PT.Kalibrering_xca.30003.83.2022.04.26.15.04.22.218.14690431.dcm  \n",
            "  inflating: OpenNeuroPET-Demo_raw/source/SiemensBiographPETMR-NRU/X-CAL_7.PT.Kalibrering_xca.30003.6.2022.04.26.15.04.22.218.14689584.dcm  \n",
            "  inflating: __MACOSX/OpenNeuroPET-Demo_raw/source/SiemensBiographPETMR-NRU/._X-CAL_7.PT.Kalibrering_xca.30003.6.2022.04.26.15.04.22.218.14689584.dcm  \n",
            "  inflating: OpenNeuroPET-Demo_raw/source/SiemensBiographPETMR-NRU/X-CAL_7.PT.Kalibrering_xca.30003.80.2022.04.26.15.04.22.218.14690398.dcm  \n",
            "  inflating: __MACOSX/OpenNeuroPET-Demo_raw/source/SiemensBiographPETMR-NRU/._X-CAL_7.PT.Kalibrering_xca.30003.80.2022.04.26.15.04.22.218.14690398.dcm  \n",
            "  inflating: OpenNeuroPET-Demo_raw/source/SiemensBiographPETMR-NRU/X-CAL_7.PT.Kalibrering_xca.30003.93.2022.04.26.15.04.22.218.14690541.dcm  \n",
            "  inflating: __MACOSX/OpenNeuroPET-Demo_raw/source/SiemensBiographPETMR-NRU/._X-CAL_7.PT.Kalibrering_xca.30003.93.2022.04.26.15.04.22.218.14690541.dcm  \n",
            "  inflating: OpenNeuroPET-Demo_raw/source/SiemensBiographPETMR-NRU/X-CAL_7.PT.Kalibrering_xca.30003.35.2022.04.26.15.04.22.218.14689903.dcm  \n",
            "  inflating: __MACOSX/OpenNeuroPET-Demo_raw/source/SiemensBiographPETMR-NRU/._X-CAL_7.PT.Kalibrering_xca.30003.35.2022.04.26.15.04.22.218.14689903.dcm  \n",
            "  inflating: OpenNeuroPET-Demo_raw/source/SiemensBiographPETMR-NRU/X-CAL_7.PT.Kalibrering_xca.30003.122.2022.04.26.15.04.22.218.14690860.dcm  \n",
            "  inflating: __MACOSX/OpenNeuroPET-Demo_raw/source/SiemensBiographPETMR-NRU/._X-CAL_7.PT.Kalibrering_xca.30003.122.2022.04.26.15.04.22.218.14690860.dcm  \n",
            "  inflating: OpenNeuroPET-Demo_raw/source/SiemensBiographPETMR-NRU/X-CAL_7.PT.Kalibrering_xca.30003.54.2022.04.26.15.04.22.218.14690112.dcm  \n",
            "  inflating: __MACOSX/OpenNeuroPET-Demo_raw/source/SiemensBiographPETMR-NRU/._X-CAL_7.PT.Kalibrering_xca.30003.54.2022.04.26.15.04.22.218.14690112.dcm  \n",
            "  inflating: OpenNeuroPET-Demo_raw/source/SiemensBiographPETMR-NRU/X-CAL_7.PT.Kalibrering_xca.30003.110.2022.04.26.15.04.22.218.14690728.dcm  \n",
            "  inflating: __MACOSX/OpenNeuroPET-Demo_raw/source/SiemensBiographPETMR-NRU/._X-CAL_7.PT.Kalibrering_xca.30003.110.2022.04.26.15.04.22.218.14690728.dcm  \n",
            "  inflating: OpenNeuroPET-Demo_raw/source/SiemensBiographPETMR-NRU/X-CAL_7.PT.Kalibrering_xca.30003.12.2022.04.26.15.04.22.218.14689650.dcm  \n",
            "  inflating: __MACOSX/OpenNeuroPET-Demo_raw/source/SiemensBiographPETMR-NRU/._X-CAL_7.PT.Kalibrering_xca.30003.12.2022.04.26.15.04.22.218.14689650.dcm  \n",
            "  inflating: OpenNeuroPET-Demo_raw/source/SiemensBiographPETMR-NRU/X-CAL_7.PT.Kalibrering_xca.30003.56.2022.04.26.15.04.22.218.14690134.dcm  \n",
            "  inflating: __MACOSX/OpenNeuroPET-Demo_raw/source/SiemensBiographPETMR-NRU/._X-CAL_7.PT.Kalibrering_xca.30003.56.2022.04.26.15.04.22.218.14690134.dcm  \n",
            "  inflating: OpenNeuroPET-Demo_raw/source/SiemensBiographPETMR-NRU/X-CAL_7.PT.Kalibrering_xca.30003.37.2022.04.26.15.04.22.218.14689925.dcm  \n",
            "  inflating: __MACOSX/OpenNeuroPET-Demo_raw/source/SiemensBiographPETMR-NRU/._X-CAL_7.PT.Kalibrering_xca.30003.37.2022.04.26.15.04.22.218.14689925.dcm  \n",
            "  inflating: OpenNeuroPET-Demo_raw/source/SiemensBiographPETMR-NRU/X-CAL_7.PT.Kalibrering_xca.30003.111.2022.04.26.15.04.22.218.14690739.dcm  \n",
            "  inflating: __MACOSX/OpenNeuroPET-Demo_raw/source/SiemensBiographPETMR-NRU/._X-CAL_7.PT.Kalibrering_xca.30003.111.2022.04.26.15.04.22.218.14690739.dcm  \n",
            "  inflating: OpenNeuroPET-Demo_raw/source/SiemensBiographPETMR-NRU/X-CAL_7.PT.Kalibrering_xca.30003.123.2022.04.26.15.04.22.218.14690871.dcm  \n",
            "  inflating: __MACOSX/OpenNeuroPET-Demo_raw/source/SiemensBiographPETMR-NRU/._X-CAL_7.PT.Kalibrering_xca.30003.123.2022.04.26.15.04.22.218.14690871.dcm  \n",
            "  inflating: OpenNeuroPET-Demo_raw/source/SiemensBiographPETMR-NRU/X-CAL_7.PT.Kalibrering_xca.30003.46.2022.04.26.15.04.22.218.14690024.dcm  \n",
            "  inflating: __MACOSX/OpenNeuroPET-Demo_raw/source/SiemensBiographPETMR-NRU/._X-CAL_7.PT.Kalibrering_xca.30003.46.2022.04.26.15.04.22.218.14690024.dcm  \n",
            "  inflating: OpenNeuroPET-Demo_raw/source/SiemensBiographPETMR-NRU/X-CAL_7.PT.Kalibrering_xca.30003.21.2022.04.26.15.04.22.218.14689749.dcm  \n",
            "  inflating: __MACOSX/OpenNeuroPET-Demo_raw/source/SiemensBiographPETMR-NRU/._X-CAL_7.PT.Kalibrering_xca.30003.21.2022.04.26.15.04.22.218.14689749.dcm  \n",
            "  inflating: OpenNeuroPET-Demo_raw/source/SiemensBiographPETMR-NRU/X-CAL_7.PT.Kalibrering_xca.30003.44.2022.04.26.15.04.22.218.14690002.dcm  \n",
            "  inflating: __MACOSX/OpenNeuroPET-Demo_raw/source/SiemensBiographPETMR-NRU/._X-CAL_7.PT.Kalibrering_xca.30003.44.2022.04.26.15.04.22.218.14690002.dcm  \n",
            "  inflating: OpenNeuroPET-Demo_raw/source/SiemensBiographPETMR-NRU/X-CAL_7.PT.Kalibrering_xca.30003.45.2022.04.26.15.04.22.218.14690013.dcm  \n",
            "  inflating: __MACOSX/OpenNeuroPET-Demo_raw/source/SiemensBiographPETMR-NRU/._X-CAL_7.PT.Kalibrering_xca.30003.45.2022.04.26.15.04.22.218.14690013.dcm  \n",
            "  inflating: OpenNeuroPET-Demo_raw/source/SiemensBiographPETMR-NRU/X-CAL_7.PT.Kalibrering_xca.30003.115.2022.04.26.15.04.22.218.14690783.dcm  \n",
            "  inflating: __MACOSX/OpenNeuroPET-Demo_raw/source/SiemensBiographPETMR-NRU/._X-CAL_7.PT.Kalibrering_xca.30003.115.2022.04.26.15.04.22.218.14690783.dcm  \n",
            "  inflating: OpenNeuroPET-Demo_raw/source/SiemensBiographPETMR-NRU/X-CAL_7.PT.Kalibrering_xca.30003.47.2022.04.26.15.04.22.218.14690035.dcm  \n",
            "  inflating: __MACOSX/OpenNeuroPET-Demo_raw/source/SiemensBiographPETMR-NRU/._X-CAL_7.PT.Kalibrering_xca.30003.47.2022.04.26.15.04.22.218.14690035.dcm  \n",
            "  inflating: OpenNeuroPET-Demo_raw/source/SiemensBiographPETMR-NRU/X-CAL_7.PT.Kalibrering_xca.30003.101.2022.04.26.15.04.22.218.14690629.dcm  \n",
            "  inflating: __MACOSX/OpenNeuroPET-Demo_raw/source/SiemensBiographPETMR-NRU/._X-CAL_7.PT.Kalibrering_xca.30003.101.2022.04.26.15.04.22.218.14690629.dcm  \n",
            "  inflating: OpenNeuroPET-Demo_raw/source/SiemensBiographPETMR-NRU/X-CAL_7.PT.Kalibrering_xca.30003.19.2022.04.26.15.04.22.218.14689727.dcm  \n",
            "  inflating: __MACOSX/OpenNeuroPET-Demo_raw/source/SiemensBiographPETMR-NRU/._X-CAL_7.PT.Kalibrering_xca.30003.19.2022.04.26.15.04.22.218.14689727.dcm  \n",
            "  inflating: OpenNeuroPET-Demo_raw/source/SiemensBiographPETMR-NRU/X-CAL_7.PT.Kalibrering_xca.30003.60.2022.04.26.15.04.22.218.14690178.dcm  \n",
            "  inflating: __MACOSX/OpenNeuroPET-Demo_raw/source/SiemensBiographPETMR-NRU/._X-CAL_7.PT.Kalibrering_xca.30003.60.2022.04.26.15.04.22.218.14690178.dcm  \n",
            "  inflating: OpenNeuroPET-Demo_raw/source/SiemensBiographPETMR-NRU/X-CAL_7.PT.Kalibrering_xca.30003.9.2022.04.26.15.04.22.218.14689617.dcm  \n",
            "  inflating: __MACOSX/OpenNeuroPET-Demo_raw/source/SiemensBiographPETMR-NRU/._X-CAL_7.PT.Kalibrering_xca.30003.9.2022.04.26.15.04.22.218.14689617.dcm  \n",
            "  inflating: OpenNeuroPET-Demo_raw/source/SiemensBiographPETMR-NRU/X-CAL_7.PT.Kalibrering_xca.30003.84.2022.04.26.15.04.22.218.14690442.dcm  \n",
            "  inflating: __MACOSX/OpenNeuroPET-Demo_raw/source/SiemensBiographPETMR-NRU/._X-CAL_7.PT.Kalibrering_xca.30003.84.2022.04.26.15.04.22.218.14690442.dcm  \n",
            "  inflating: OpenNeuroPET-Demo_raw/source/SiemensBiographPETMR-NRU/X-CAL_7.PT.Kalibrering_xca.30003.57.2022.04.26.15.04.22.218.14690145.dcm  \n",
            "  inflating: __MACOSX/OpenNeuroPET-Demo_raw/source/SiemensBiographPETMR-NRU/._X-CAL_7.PT.Kalibrering_xca.30003.57.2022.04.26.15.04.22.218.14690145.dcm  \n",
            "  inflating: OpenNeuroPET-Demo_raw/source/SiemensBiographPETMR-NRU/X-CAL_7.PT.Kalibrering_xca.30003.10.2022.04.26.15.04.22.218.14689628.dcm  \n",
            "  inflating: __MACOSX/OpenNeuroPET-Demo_raw/source/SiemensBiographPETMR-NRU/._X-CAL_7.PT.Kalibrering_xca.30003.10.2022.04.26.15.04.22.218.14689628.dcm  \n",
            "  inflating: OpenNeuroPET-Demo_raw/source/SiemensBiographPETMR-NRU/X-CAL_7.PT.Kalibrering_xca.30003.92.2022.04.26.15.04.22.218.14690530.dcm  \n",
            "  inflating: __MACOSX/OpenNeuroPET-Demo_raw/source/SiemensBiographPETMR-NRU/._X-CAL_7.PT.Kalibrering_xca.30003.92.2022.04.26.15.04.22.218.14690530.dcm  \n",
            "  inflating: OpenNeuroPET-Demo_raw/source/SiemensBiographPETMR-NRU/X-CAL_7.PT.Kalibrering_xca.30003.24.2022.04.26.15.04.22.218.14689782.dcm  \n",
            "  inflating: __MACOSX/OpenNeuroPET-Demo_raw/source/SiemensBiographPETMR-NRU/._X-CAL_7.PT.Kalibrering_xca.30003.24.2022.04.26.15.04.22.218.14689782.dcm  \n",
            "  inflating: OpenNeuroPET-Demo_raw/source/SiemensBiographPETMR-NRU/X-CAL_7.PT.Kalibrering_xca.30003.76.2022.04.26.15.04.22.218.14690354.dcm  \n",
            "  inflating: __MACOSX/OpenNeuroPET-Demo_raw/source/SiemensBiographPETMR-NRU/._X-CAL_7.PT.Kalibrering_xca.30003.76.2022.04.26.15.04.22.218.14690354.dcm  \n",
            "  inflating: OpenNeuroPET-Demo_raw/source/SiemensBiographPETMR-NRU/X-CAL_7.PT.Kalibrering_xca.30003.112.2022.04.26.15.04.22.218.14690750.dcm  \n",
            "  inflating: __MACOSX/OpenNeuroPET-Demo_raw/source/SiemensBiographPETMR-NRU/._X-CAL_7.PT.Kalibrering_xca.30003.112.2022.04.26.15.04.22.218.14690750.dcm  \n",
            "  inflating: OpenNeuroPET-Demo_raw/source/SiemensBiographPETMR-NRU/X-CAL_7.PT.Kalibrering_xca.30003.68.2022.04.26.15.04.22.218.14690266.dcm  \n",
            "  inflating: __MACOSX/OpenNeuroPET-Demo_raw/source/SiemensBiographPETMR-NRU/._X-CAL_7.PT.Kalibrering_xca.30003.68.2022.04.26.15.04.22.218.14690266.dcm  \n",
            "  inflating: OpenNeuroPET-Demo_raw/source/SiemensBiographPETMR-NRU/X-CAL_7.PT.Kalibrering_xca.30003.62.2022.04.26.15.04.22.218.14690200.dcm  \n",
            "  inflating: __MACOSX/OpenNeuroPET-Demo_raw/source/SiemensBiographPETMR-NRU/._X-CAL_7.PT.Kalibrering_xca.30003.62.2022.04.26.15.04.22.218.14690200.dcm  \n",
            "  inflating: OpenNeuroPET-Demo_raw/source/SiemensBiographPETMR-NRU/X-CAL_7.PT.Kalibrering_xca.30003.86.2022.04.26.15.04.22.218.14690464.dcm  \n",
            "  inflating: __MACOSX/OpenNeuroPET-Demo_raw/source/SiemensBiographPETMR-NRU/._X-CAL_7.PT.Kalibrering_xca.30003.86.2022.04.26.15.04.22.218.14690464.dcm  \n",
            "  inflating: OpenNeuroPET-Demo_raw/source/SiemensBiographPETMR-NRU/X-CAL_7.PT.Kalibrering_xca.30003.25.2022.04.26.15.04.22.218.14689793.dcm  \n",
            "  inflating: __MACOSX/OpenNeuroPET-Demo_raw/source/SiemensBiographPETMR-NRU/._X-CAL_7.PT.Kalibrering_xca.30003.25.2022.04.26.15.04.22.218.14689793.dcm  \n",
            "  inflating: OpenNeuroPET-Demo_raw/source/SiemensBiographPETMR-NRU/X-CAL_7.PT.Kalibrering_xca.30003.11.2022.04.26.15.04.22.218.14689639.dcm  \n",
            "  inflating: __MACOSX/OpenNeuroPET-Demo_raw/source/SiemensBiographPETMR-NRU/._X-CAL_7.PT.Kalibrering_xca.30003.11.2022.04.26.15.04.22.218.14689639.dcm  \n",
            "  inflating: OpenNeuroPET-Demo_raw/source/SiemensBiographPETMR-NRU/X-CAL_7.PT.Kalibrering_xca.30003.87.2022.04.26.15.04.22.218.14690475.dcm  \n",
            "  inflating: __MACOSX/OpenNeuroPET-Demo_raw/source/SiemensBiographPETMR-NRU/._X-CAL_7.PT.Kalibrering_xca.30003.87.2022.04.26.15.04.22.218.14690475.dcm  \n",
            "  inflating: OpenNeuroPET-Demo_raw/source/SiemensBiographPETMR-NRU/X-CAL_7.PT.Kalibrering_xca.30003.41.2022.04.26.15.04.22.218.14689969.dcm  \n",
            "  inflating: __MACOSX/OpenNeuroPET-Demo_raw/source/SiemensBiographPETMR-NRU/._X-CAL_7.PT.Kalibrering_xca.30003.41.2022.04.26.15.04.22.218.14689969.dcm  \n",
            "  inflating: OpenNeuroPET-Demo_raw/source/SiemensBiographPETMR-NRU/X-CAL_7.PT.Kalibrering_xca.30003.63.2022.04.26.15.04.22.218.14690211.dcm  \n",
            "  inflating: __MACOSX/OpenNeuroPET-Demo_raw/source/SiemensBiographPETMR-NRU/._X-CAL_7.PT.Kalibrering_xca.30003.63.2022.04.26.15.04.22.218.14690211.dcm  \n",
            "  inflating: OpenNeuroPET-Demo_raw/source/SiemensBiographPETMR-NRU/X-CAL_7.PT.Kalibrering_xca.30003.69.2022.04.26.15.04.22.218.14690277.dcm  \n",
            "  inflating: __MACOSX/OpenNeuroPET-Demo_raw/source/SiemensBiographPETMR-NRU/._X-CAL_7.PT.Kalibrering_xca.30003.69.2022.04.26.15.04.22.218.14690277.dcm  \n",
            "  inflating: OpenNeuroPET-Demo_raw/source/SiemensBiographPETMR-NRU/X-CAL_7.PT.Kalibrering_xca.30003.98.2022.04.26.15.04.22.218.14690596.dcm  \n",
            "  inflating: __MACOSX/OpenNeuroPET-Demo_raw/source/SiemensBiographPETMR-NRU/._X-CAL_7.PT.Kalibrering_xca.30003.98.2022.04.26.15.04.22.218.14690596.dcm  \n",
            "  inflating: OpenNeuroPET-Demo_raw/source/SiemensBiographPETMR-NRU/X-CAL_7.PT.Kalibrering_xca.30003.85.2022.04.26.15.04.22.218.14690453.dcm  \n",
            "  inflating: __MACOSX/OpenNeuroPET-Demo_raw/source/SiemensBiographPETMR-NRU/._X-CAL_7.PT.Kalibrering_xca.30003.85.2022.04.26.15.04.22.218.14690453.dcm  \n",
            "  inflating: OpenNeuroPET-Demo_raw/source/SiemensBiographPETMR-NRU/X-CAL_7.PT.Kalibrering_xca.30003.8.2022.04.26.15.04.22.218.14689606.dcm  \n",
            "  inflating: __MACOSX/OpenNeuroPET-Demo_raw/source/SiemensBiographPETMR-NRU/._X-CAL_7.PT.Kalibrering_xca.30003.8.2022.04.26.15.04.22.218.14689606.dcm  \n",
            "  inflating: OpenNeuroPET-Demo_raw/source/SiemensHRRT-NRU/XCal-Hrrt-2022.04.21.15.43.05_EM_3D.v  \n",
            "  inflating: __MACOSX/OpenNeuroPET-Demo_raw/source/SiemensHRRT-NRU/._XCal-Hrrt-2022.04.21.15.43.05_EM_3D.v  \n",
            "  inflating: OpenNeuroPET-Demo_raw/source/SiemensHRRT-NRU/XCal-Hrrt-2022.04.21.15.43.05_EM_3D.json  \n",
            "  inflating: __MACOSX/OpenNeuroPET-Demo_raw/source/SiemensHRRT-NRU/._XCal-Hrrt-2022.04.21.15.43.05_EM_3D.json  \n",
            "  inflating: OpenNeuroPET-Demo_raw/sub-SiemensBiographNRU/pet/sub-SiemensBiographNRU_pet.json  \n",
            "  inflating: __MACOSX/OpenNeuroPET-Demo_raw/sub-SiemensBiographNRU/pet/._sub-SiemensBiographNRU_pet.json  \n",
            "  inflating: OpenNeuroPET-Demo_raw/sub-SiemensBiographNRU/pet/sub-SiemensBiographNRU_pet.nii.gz  \n",
            "  inflating: __MACOSX/OpenNeuroPET-Demo_raw/sub-SiemensBiographNRU/pet/._sub-SiemensBiographNRU_pet.nii.gz  \n"
          ]
        }
      ]
    },
    {
      "cell_type": "code",
      "source": [
        "!apt-get install tree"
      ],
      "metadata": {
        "colab": {
          "base_uri": "https://localhost:8080/"
        },
        "id": "jRJcdednwHWO",
        "outputId": "24916e9a-99c0-49e0-eb40-84f52d8ebe55"
      },
      "execution_count": 11,
      "outputs": [
        {
          "output_type": "stream",
          "name": "stdout",
          "text": [
            "Reading package lists... Done\n",
            "Building dependency tree       \n",
            "Reading state information... Done\n",
            "The following package was automatically installed and is no longer required:\n",
            "  libnvidia-common-460\n",
            "Use 'apt autoremove' to remove it.\n",
            "The following NEW packages will be installed:\n",
            "  tree\n",
            "0 upgraded, 1 newly installed, 0 to remove and 7 not upgraded.\n",
            "Need to get 40.7 kB of archives.\n",
            "After this operation, 105 kB of additional disk space will be used.\n",
            "Get:1 http://archive.ubuntu.com/ubuntu bionic/universe amd64 tree amd64 1.7.0-5 [40.7 kB]\n",
            "Fetched 40.7 kB in 0s (264 kB/s)\n",
            "Selecting previously unselected package tree.\n",
            "(Reading database ... 124015 files and directories currently installed.)\n",
            "Preparing to unpack .../tree_1.7.0-5_amd64.deb ...\n",
            "Unpacking tree (1.7.0-5) ...\n",
            "Setting up tree (1.7.0-5) ...\n",
            "Processing triggers for man-db (2.8.3-2ubuntu0.1) ...\n"
          ]
        }
      ]
    },
    {
      "cell_type": "code",
      "source": [
        "!tree OpenNeuroPET-Demo_raw"
      ],
      "metadata": {
        "colab": {
          "base_uri": "https://localhost:8080/"
        },
        "id": "oNGqcj0uvzjQ",
        "outputId": "f31052ce-f05b-40dc-c1f2-e165f601b250"
      },
      "execution_count": 12,
      "outputs": [
        {
          "output_type": "stream",
          "name": "stdout",
          "text": [
            "OpenNeuroPET-Demo_raw\n",
            "├── code\n",
            "│   ├── matlab_conversions.m\n",
            "│   ├── python_conversions.sh\n",
            "│   └── README.md\n",
            "├── dataset_description.json\n",
            "├── README\n",
            "├── source\n",
            "│   ├── SiemensBiographPETMR-NRU\n",
            "│   │   ├── X-CAL_7.PT.Kalibrering_xca.30003.100.2022.04.26.15.04.22.218.14690618.dcm\n",
            "│   │   ├── X-CAL_7.PT.Kalibrering_xca.30003.101.2022.04.26.15.04.22.218.14690629.dcm\n",
            "│   │   ├── X-CAL_7.PT.Kalibrering_xca.30003.10.2022.04.26.15.04.22.218.14689628.dcm\n",
            "│   │   ├── X-CAL_7.PT.Kalibrering_xca.30003.102.2022.04.26.15.04.22.218.14690640.dcm\n",
            "│   │   ├── X-CAL_7.PT.Kalibrering_xca.30003.103.2022.04.26.15.04.22.218.14690651.dcm\n",
            "│   │   ├── X-CAL_7.PT.Kalibrering_xca.30003.104.2022.04.26.15.04.22.218.14690662.dcm\n",
            "│   │   ├── X-CAL_7.PT.Kalibrering_xca.30003.105.2022.04.26.15.04.22.218.14690673.dcm\n",
            "│   │   ├── X-CAL_7.PT.Kalibrering_xca.30003.106.2022.04.26.15.04.22.218.14690684.dcm\n",
            "│   │   ├── X-CAL_7.PT.Kalibrering_xca.30003.107.2022.04.26.15.04.22.218.14690695.dcm\n",
            "│   │   ├── X-CAL_7.PT.Kalibrering_xca.30003.108.2022.04.26.15.04.22.218.14690706.dcm\n",
            "│   │   ├── X-CAL_7.PT.Kalibrering_xca.30003.109.2022.04.26.15.04.22.218.14690717.dcm\n",
            "│   │   ├── X-CAL_7.PT.Kalibrering_xca.30003.110.2022.04.26.15.04.22.218.14690728.dcm\n",
            "│   │   ├── X-CAL_7.PT.Kalibrering_xca.30003.111.2022.04.26.15.04.22.218.14690739.dcm\n",
            "│   │   ├── X-CAL_7.PT.Kalibrering_xca.30003.11.2022.04.26.15.04.22.218.14689639.dcm\n",
            "│   │   ├── X-CAL_7.PT.Kalibrering_xca.30003.112.2022.04.26.15.04.22.218.14690750.dcm\n",
            "│   │   ├── X-CAL_7.PT.Kalibrering_xca.30003.113.2022.04.26.15.04.22.218.14690761.dcm\n",
            "│   │   ├── X-CAL_7.PT.Kalibrering_xca.30003.114.2022.04.26.15.04.22.218.14690772.dcm\n",
            "│   │   ├── X-CAL_7.PT.Kalibrering_xca.30003.115.2022.04.26.15.04.22.218.14690783.dcm\n",
            "│   │   ├── X-CAL_7.PT.Kalibrering_xca.30003.116.2022.04.26.15.04.22.218.14690794.dcm\n",
            "│   │   ├── X-CAL_7.PT.Kalibrering_xca.30003.117.2022.04.26.15.04.22.218.14690805.dcm\n",
            "│   │   ├── X-CAL_7.PT.Kalibrering_xca.30003.118.2022.04.26.15.04.22.218.14690816.dcm\n",
            "│   │   ├── X-CAL_7.PT.Kalibrering_xca.30003.119.2022.04.26.15.04.22.218.14690827.dcm\n",
            "│   │   ├── X-CAL_7.PT.Kalibrering_xca.30003.120.2022.04.26.15.04.22.218.14690838.dcm\n",
            "│   │   ├── X-CAL_7.PT.Kalibrering_xca.30003.1.2022.04.26.15.04.22.218.14689529.dcm\n",
            "│   │   ├── X-CAL_7.PT.Kalibrering_xca.30003.121.2022.04.26.15.04.22.218.14690849.dcm\n",
            "│   │   ├── X-CAL_7.PT.Kalibrering_xca.30003.12.2022.04.26.15.04.22.218.14689650.dcm\n",
            "│   │   ├── X-CAL_7.PT.Kalibrering_xca.30003.122.2022.04.26.15.04.22.218.14690860.dcm\n",
            "│   │   ├── X-CAL_7.PT.Kalibrering_xca.30003.123.2022.04.26.15.04.22.218.14690871.dcm\n",
            "│   │   ├── X-CAL_7.PT.Kalibrering_xca.30003.124.2022.04.26.15.04.22.218.14690882.dcm\n",
            "│   │   ├── X-CAL_7.PT.Kalibrering_xca.30003.125.2022.04.26.15.04.22.218.14690893.dcm\n",
            "│   │   ├── X-CAL_7.PT.Kalibrering_xca.30003.126.2022.04.26.15.04.22.218.14690904.dcm\n",
            "│   │   ├── X-CAL_7.PT.Kalibrering_xca.30003.127.2022.04.26.15.04.22.218.14690915.dcm\n",
            "│   │   ├── X-CAL_7.PT.Kalibrering_xca.30003.13.2022.04.26.15.04.22.218.14689661.dcm\n",
            "│   │   ├── X-CAL_7.PT.Kalibrering_xca.30003.14.2022.04.26.15.04.22.218.14689672.dcm\n",
            "│   │   ├── X-CAL_7.PT.Kalibrering_xca.30003.15.2022.04.26.15.04.22.218.14689683.dcm\n",
            "│   │   ├── X-CAL_7.PT.Kalibrering_xca.30003.16.2022.04.26.15.04.22.218.14689694.dcm\n",
            "│   │   ├── X-CAL_7.PT.Kalibrering_xca.30003.17.2022.04.26.15.04.22.218.14689705.dcm\n",
            "│   │   ├── X-CAL_7.PT.Kalibrering_xca.30003.18.2022.04.26.15.04.22.218.14689716.dcm\n",
            "│   │   ├── X-CAL_7.PT.Kalibrering_xca.30003.19.2022.04.26.15.04.22.218.14689727.dcm\n",
            "│   │   ├── X-CAL_7.PT.Kalibrering_xca.30003.20.2022.04.26.15.04.22.218.14689738.dcm\n",
            "│   │   ├── X-CAL_7.PT.Kalibrering_xca.30003.21.2022.04.26.15.04.22.218.14689749.dcm\n",
            "│   │   ├── X-CAL_7.PT.Kalibrering_xca.30003.2.2022.04.26.15.04.22.218.14689540.dcm\n",
            "│   │   ├── X-CAL_7.PT.Kalibrering_xca.30003.22.2022.04.26.15.04.22.218.14689760.dcm\n",
            "│   │   ├── X-CAL_7.PT.Kalibrering_xca.30003.23.2022.04.26.15.04.22.218.14689771.dcm\n",
            "│   │   ├── X-CAL_7.PT.Kalibrering_xca.30003.24.2022.04.26.15.04.22.218.14689782.dcm\n",
            "│   │   ├── X-CAL_7.PT.Kalibrering_xca.30003.25.2022.04.26.15.04.22.218.14689793.dcm\n",
            "│   │   ├── X-CAL_7.PT.Kalibrering_xca.30003.26.2022.04.26.15.04.22.218.14689804.dcm\n",
            "│   │   ├── X-CAL_7.PT.Kalibrering_xca.30003.27.2022.04.26.15.04.22.218.14689815.dcm\n",
            "│   │   ├── X-CAL_7.PT.Kalibrering_xca.30003.28.2022.04.26.15.04.22.218.14689826.dcm\n",
            "│   │   ├── X-CAL_7.PT.Kalibrering_xca.30003.29.2022.04.26.15.04.22.218.14689837.dcm\n",
            "│   │   ├── X-CAL_7.PT.Kalibrering_xca.30003.30.2022.04.26.15.04.22.218.14689848.dcm\n",
            "│   │   ├── X-CAL_7.PT.Kalibrering_xca.30003.31.2022.04.26.15.04.22.218.14689859.dcm\n",
            "│   │   ├── X-CAL_7.PT.Kalibrering_xca.30003.3.2022.04.26.15.04.22.218.14689551.dcm\n",
            "│   │   ├── X-CAL_7.PT.Kalibrering_xca.30003.32.2022.04.26.15.04.22.218.14689870.dcm\n",
            "│   │   ├── X-CAL_7.PT.Kalibrering_xca.30003.33.2022.04.26.15.04.22.218.14689881.dcm\n",
            "│   │   ├── X-CAL_7.PT.Kalibrering_xca.30003.34.2022.04.26.15.04.22.218.14689892.dcm\n",
            "│   │   ├── X-CAL_7.PT.Kalibrering_xca.30003.35.2022.04.26.15.04.22.218.14689903.dcm\n",
            "│   │   ├── X-CAL_7.PT.Kalibrering_xca.30003.36.2022.04.26.15.04.22.218.14689914.dcm\n",
            "│   │   ├── X-CAL_7.PT.Kalibrering_xca.30003.37.2022.04.26.15.04.22.218.14689925.dcm\n",
            "│   │   ├── X-CAL_7.PT.Kalibrering_xca.30003.38.2022.04.26.15.04.22.218.14689936.dcm\n",
            "│   │   ├── X-CAL_7.PT.Kalibrering_xca.30003.39.2022.04.26.15.04.22.218.14689947.dcm\n",
            "│   │   ├── X-CAL_7.PT.Kalibrering_xca.30003.40.2022.04.26.15.04.22.218.14689958.dcm\n",
            "│   │   ├── X-CAL_7.PT.Kalibrering_xca.30003.41.2022.04.26.15.04.22.218.14689969.dcm\n",
            "│   │   ├── X-CAL_7.PT.Kalibrering_xca.30003.4.2022.04.26.15.04.22.218.14689562.dcm\n",
            "│   │   ├── X-CAL_7.PT.Kalibrering_xca.30003.42.2022.04.26.15.04.22.218.14689980.dcm\n",
            "│   │   ├── X-CAL_7.PT.Kalibrering_xca.30003.43.2022.04.26.15.04.22.218.14689991.dcm\n",
            "│   │   ├── X-CAL_7.PT.Kalibrering_xca.30003.44.2022.04.26.15.04.22.218.14690002.dcm\n",
            "│   │   ├── X-CAL_7.PT.Kalibrering_xca.30003.45.2022.04.26.15.04.22.218.14690013.dcm\n",
            "│   │   ├── X-CAL_7.PT.Kalibrering_xca.30003.46.2022.04.26.15.04.22.218.14690024.dcm\n",
            "│   │   ├── X-CAL_7.PT.Kalibrering_xca.30003.47.2022.04.26.15.04.22.218.14690035.dcm\n",
            "│   │   ├── X-CAL_7.PT.Kalibrering_xca.30003.48.2022.04.26.15.04.22.218.14690046.dcm\n",
            "│   │   ├── X-CAL_7.PT.Kalibrering_xca.30003.49.2022.04.26.15.04.22.218.14690057.dcm\n",
            "│   │   ├── X-CAL_7.PT.Kalibrering_xca.30003.50.2022.04.26.15.04.22.218.14690068.dcm\n",
            "│   │   ├── X-CAL_7.PT.Kalibrering_xca.30003.51.2022.04.26.15.04.22.218.14690079.dcm\n",
            "│   │   ├── X-CAL_7.PT.Kalibrering_xca.30003.5.2022.04.26.15.04.22.218.14689573.dcm\n",
            "│   │   ├── X-CAL_7.PT.Kalibrering_xca.30003.52.2022.04.26.15.04.22.218.14690090.dcm\n",
            "│   │   ├── X-CAL_7.PT.Kalibrering_xca.30003.53.2022.04.26.15.04.22.218.14690101.dcm\n",
            "│   │   ├── X-CAL_7.PT.Kalibrering_xca.30003.54.2022.04.26.15.04.22.218.14690112.dcm\n",
            "│   │   ├── X-CAL_7.PT.Kalibrering_xca.30003.55.2022.04.26.15.04.22.218.14690123.dcm\n",
            "│   │   ├── X-CAL_7.PT.Kalibrering_xca.30003.56.2022.04.26.15.04.22.218.14690134.dcm\n",
            "│   │   ├── X-CAL_7.PT.Kalibrering_xca.30003.57.2022.04.26.15.04.22.218.14690145.dcm\n",
            "│   │   ├── X-CAL_7.PT.Kalibrering_xca.30003.58.2022.04.26.15.04.22.218.14690156.dcm\n",
            "│   │   ├── X-CAL_7.PT.Kalibrering_xca.30003.59.2022.04.26.15.04.22.218.14690167.dcm\n",
            "│   │   ├── X-CAL_7.PT.Kalibrering_xca.30003.60.2022.04.26.15.04.22.218.14690178.dcm\n",
            "│   │   ├── X-CAL_7.PT.Kalibrering_xca.30003.61.2022.04.26.15.04.22.218.14690189.dcm\n",
            "│   │   ├── X-CAL_7.PT.Kalibrering_xca.30003.6.2022.04.26.15.04.22.218.14689584.dcm\n",
            "│   │   ├── X-CAL_7.PT.Kalibrering_xca.30003.62.2022.04.26.15.04.22.218.14690200.dcm\n",
            "│   │   ├── X-CAL_7.PT.Kalibrering_xca.30003.63.2022.04.26.15.04.22.218.14690211.dcm\n",
            "│   │   ├── X-CAL_7.PT.Kalibrering_xca.30003.64.2022.04.26.15.04.22.218.14690222.dcm\n",
            "│   │   ├── X-CAL_7.PT.Kalibrering_xca.30003.65.2022.04.26.15.04.22.218.14690233.dcm\n",
            "│   │   ├── X-CAL_7.PT.Kalibrering_xca.30003.66.2022.04.26.15.04.22.218.14690244.dcm\n",
            "│   │   ├── X-CAL_7.PT.Kalibrering_xca.30003.67.2022.04.26.15.04.22.218.14690255.dcm\n",
            "│   │   ├── X-CAL_7.PT.Kalibrering_xca.30003.68.2022.04.26.15.04.22.218.14690266.dcm\n",
            "│   │   ├── X-CAL_7.PT.Kalibrering_xca.30003.69.2022.04.26.15.04.22.218.14690277.dcm\n",
            "│   │   ├── X-CAL_7.PT.Kalibrering_xca.30003.70.2022.04.26.15.04.22.218.14690288.dcm\n",
            "│   │   ├── X-CAL_7.PT.Kalibrering_xca.30003.71.2022.04.26.15.04.22.218.14690299.dcm\n",
            "│   │   ├── X-CAL_7.PT.Kalibrering_xca.30003.7.2022.04.26.15.04.22.218.14689595.dcm\n",
            "│   │   ├── X-CAL_7.PT.Kalibrering_xca.30003.72.2022.04.26.15.04.22.218.14690310.dcm\n",
            "│   │   ├── X-CAL_7.PT.Kalibrering_xca.30003.73.2022.04.26.15.04.22.218.14690321.dcm\n",
            "│   │   ├── X-CAL_7.PT.Kalibrering_xca.30003.74.2022.04.26.15.04.22.218.14690332.dcm\n",
            "│   │   ├── X-CAL_7.PT.Kalibrering_xca.30003.75.2022.04.26.15.04.22.218.14690343.dcm\n",
            "│   │   ├── X-CAL_7.PT.Kalibrering_xca.30003.76.2022.04.26.15.04.22.218.14690354.dcm\n",
            "│   │   ├── X-CAL_7.PT.Kalibrering_xca.30003.77.2022.04.26.15.04.22.218.14690365.dcm\n",
            "│   │   ├── X-CAL_7.PT.Kalibrering_xca.30003.78.2022.04.26.15.04.22.218.14690376.dcm\n",
            "│   │   ├── X-CAL_7.PT.Kalibrering_xca.30003.79.2022.04.26.15.04.22.218.14690387.dcm\n",
            "│   │   ├── X-CAL_7.PT.Kalibrering_xca.30003.80.2022.04.26.15.04.22.218.14690398.dcm\n",
            "│   │   ├── X-CAL_7.PT.Kalibrering_xca.30003.81.2022.04.26.15.04.22.218.14690409.dcm\n",
            "│   │   ├── X-CAL_7.PT.Kalibrering_xca.30003.8.2022.04.26.15.04.22.218.14689606.dcm\n",
            "│   │   ├── X-CAL_7.PT.Kalibrering_xca.30003.82.2022.04.26.15.04.22.218.14690420.dcm\n",
            "│   │   ├── X-CAL_7.PT.Kalibrering_xca.30003.83.2022.04.26.15.04.22.218.14690431.dcm\n",
            "│   │   ├── X-CAL_7.PT.Kalibrering_xca.30003.84.2022.04.26.15.04.22.218.14690442.dcm\n",
            "│   │   ├── X-CAL_7.PT.Kalibrering_xca.30003.85.2022.04.26.15.04.22.218.14690453.dcm\n",
            "│   │   ├── X-CAL_7.PT.Kalibrering_xca.30003.86.2022.04.26.15.04.22.218.14690464.dcm\n",
            "│   │   ├── X-CAL_7.PT.Kalibrering_xca.30003.87.2022.04.26.15.04.22.218.14690475.dcm\n",
            "│   │   ├── X-CAL_7.PT.Kalibrering_xca.30003.88.2022.04.26.15.04.22.218.14690486.dcm\n",
            "│   │   ├── X-CAL_7.PT.Kalibrering_xca.30003.89.2022.04.26.15.04.22.218.14690497.dcm\n",
            "│   │   ├── X-CAL_7.PT.Kalibrering_xca.30003.90.2022.04.26.15.04.22.218.14690508.dcm\n",
            "│   │   ├── X-CAL_7.PT.Kalibrering_xca.30003.91.2022.04.26.15.04.22.218.14690519.dcm\n",
            "│   │   ├── X-CAL_7.PT.Kalibrering_xca.30003.9.2022.04.26.15.04.22.218.14689617.dcm\n",
            "│   │   ├── X-CAL_7.PT.Kalibrering_xca.30003.92.2022.04.26.15.04.22.218.14690530.dcm\n",
            "│   │   ├── X-CAL_7.PT.Kalibrering_xca.30003.93.2022.04.26.15.04.22.218.14690541.dcm\n",
            "│   │   ├── X-CAL_7.PT.Kalibrering_xca.30003.94.2022.04.26.15.04.22.218.14690552.dcm\n",
            "│   │   ├── X-CAL_7.PT.Kalibrering_xca.30003.95.2022.04.26.15.04.22.218.14690563.dcm\n",
            "│   │   ├── X-CAL_7.PT.Kalibrering_xca.30003.96.2022.04.26.15.04.22.218.14690574.dcm\n",
            "│   │   ├── X-CAL_7.PT.Kalibrering_xca.30003.97.2022.04.26.15.04.22.218.14690585.dcm\n",
            "│   │   ├── X-CAL_7.PT.Kalibrering_xca.30003.98.2022.04.26.15.04.22.218.14690596.dcm\n",
            "│   │   └── X-CAL_7.PT.Kalibrering_xca.30003.99.2022.04.26.15.04.22.218.14690607.dcm\n",
            "│   └── SiemensHRRT-NRU\n",
            "│       ├── XCal-Hrrt-2022.04.21.15.43.05_EM_3D.json\n",
            "│       └── XCal-Hrrt-2022.04.21.15.43.05_EM_3D.v\n",
            "├── sub-SiemensBiographNRU\n",
            "│   └── pet\n",
            "│       ├── sub-SiemensBiographNRU_pet.json\n",
            "│       └── sub-SiemensBiographNRU_pet.nii.gz\n",
            "└── sub-SiemensHRRT\n",
            "    └── pet\n",
            "        ├── sub-SiemensHRRT_pet.json\n",
            "        └── sub-SiemensHRRT_pet.nii.gz\n",
            "\n",
            "8 directories, 138 files\n"
          ]
        }
      ]
    },
    {
      "cell_type": "code",
      "source": [
        "!pip install dcm2niix"
      ],
      "metadata": {
        "colab": {
          "base_uri": "https://localhost:8080/"
        },
        "id": "0d5d_WQr061H",
        "outputId": "f800a7be-fa0f-47fc-ab6d-9f218e8f4be0"
      },
      "execution_count": 16,
      "outputs": [
        {
          "output_type": "stream",
          "name": "stdout",
          "text": [
            "Looking in indexes: https://pypi.org/simple, https://us-python.pkg.dev/colab-wheels/public/simple/\n",
            "Requirement already satisfied: dcm2niix in /usr/local/lib/python3.8/dist-packages (1.0.20220715)\n",
            "Requirement already satisfied: miutil[web] in /usr/local/lib/python3.8/dist-packages (from dcm2niix) (0.10.1)\n",
            "Requirement already satisfied: tqdm>=4.40.0 in /usr/local/lib/python3.8/dist-packages (from miutil[web]->dcm2niix) (4.64.1)\n",
            "Requirement already satisfied: requests in /usr/local/lib/python3.8/dist-packages (from miutil[web]->dcm2niix) (2.23.0)\n",
            "Requirement already satisfied: urllib3!=1.25.0,!=1.25.1,<1.26,>=1.21.1 in /usr/local/lib/python3.8/dist-packages (from requests->miutil[web]->dcm2niix) (1.24.3)\n",
            "Requirement already satisfied: certifi>=2017.4.17 in /usr/local/lib/python3.8/dist-packages (from requests->miutil[web]->dcm2niix) (2022.9.24)\n",
            "Requirement already satisfied: idna<3,>=2.5 in /usr/local/lib/python3.8/dist-packages (from requests->miutil[web]->dcm2niix) (2.10)\n",
            "Requirement already satisfied: chardet<4,>=3.0.2 in /usr/local/lib/python3.8/dist-packages (from requests->miutil[web]->dcm2niix) (3.0.4)\n"
          ]
        }
      ]
    },
    {
      "cell_type": "code",
      "source": [
        "!dcm2niix4pet ./OpenNeuroPET-Demo_raw/source/SiemensBiographPETMR-NRU -d mynewfolder"
      ],
      "metadata": {
        "colab": {
          "base_uri": "https://localhost:8080/"
        },
        "id": "K_No-S4Awa7N",
        "outputId": "09c5b762-28a7-4c6e-d887-bbeea49357d6"
      },
      "execution_count": 17,
      "outputs": [
        {
          "output_type": "stream",
          "name": "stdout",
          "text": [
            "Attempting to locate missing BIDS fields in dicom header\n",
            "FOUND BodyPartExamined corresponding to BIDS BodyPart: BRAIN\n",
            "NOT FOUND MappingResourceName corresponding to BIDS TracerName in dicom header.\n",
            "NOT FOUND CodeMeaning corresponding to BIDS TracerRadionuclide in dicom header.\n",
            "NOT FOUND RadionuclideTotalDose corresponding to BIDS InjectedRadioactivity in dicom header.\n",
            "NOT FOUND RadiopharmaceuticalSpecificActivity corresponding to BIDS MolarActivity in dicom header.\n",
            "NOT FOUND RadiopharmaceuticalVolume corresponding to BIDS InjectedVolume in dicom header.\n",
            "NOT FOUND InterventionDrugName corresponding to BIDS PharmaceuticalName in dicom header.\n",
            "NOT FOUND InterventionDrugDose corresponding to BIDS PharmaceuticalDoseAmount in dicom header.\n",
            "NOT FOUND RadiopharmaceuticalStartTime corresponding to BIDS InjectionStart in dicom header.\n",
            "FOUND AcquisitionDate corresponding to BIDS ScanDate: 20220421\n",
            "NOT FOUND RadiopharmaceuticalStopTime corresponding to BIDS InjectionEnd in dicom header.\n",
            "FOUND ReconstructionMethod corresponding to BIDS ReconMethodName: OP-OSEM4i21s\n",
            "FOUND ReconstructionMethod corresponding to BIDS ReconMethodParameterLabels: OP-OSEM4i21s\n",
            "FOUND ReconstructionMethod corresponding to BIDS ReconMethodParameterUnits: OP-OSEM4i21s\n",
            "FOUND ReconstructionMethod corresponding to BIDS ReconMethodParameterValues: OP-OSEM4i21s\n",
            "FOUND ConvolutionKernel corresponding to BIDS ReconFilterType: XYZGAUSSIAN3.00\n",
            "FOUND ConvolutionKernel corresponding to BIDS ReconFilterSize: XYZGAUSSIAN3.00\n",
            "FOUND AttenuationCorrectionMethod corresponding to BIDS AttenuationCorrection: measured\n",
            "FOUND ScatterFractionFactor corresponding to BIDS ScatterFraction: 29.8623\n",
            "FOUND DecayFactor corresponding to BIDS DecayCorrectionFactor: 1.01587\n",
            "\u001b[33mWARNING!!!! JSON Field Manufacturer with value Siemens does not match dicom value of SIEMENS\u001b[0m\n",
            "\u001b[33mWARNING!!!! JSON Field Units with value Bq/mL does not match dicom value of BQML\u001b[0m\n"
          ]
        }
      ]
    },
    {
      "cell_type": "code",
      "source": [
        "!tree ./mynewfolder"
      ],
      "metadata": {
        "colab": {
          "base_uri": "https://localhost:8080/"
        },
        "id": "pm3Hgam_1lvR",
        "outputId": "a54b3b12-d59c-4ec9-8efb-6eef7737947e"
      },
      "execution_count": 18,
      "outputs": [
        {
          "output_type": "stream",
          "name": "stdout",
          "text": [
            "./mynewfolder\n",
            "├── Phantom_PetAcquisition_20.01.14-10_39_18-STD-1.3.12.2.1107.5.2.38.51014_20220421120447_30003.json\n",
            "└── Phantom_PetAcquisition_20.01.14-10_39_18-STD-1.3.12.2.1107.5.2.38.51014_20220421120447_30003.nii.gz\n",
            "\n",
            "0 directories, 2 files\n"
          ]
        }
      ]
    },
    {
      "cell_type": "code",
      "source": [
        "!dcm2niix4pet ./OpenNeuroPET-Demo_raw/source/SiemensBiographPETMR-NRU -d mynewfolder2 --kwargs TimeZero=ScanStart Manufacturer=Siemens ManufacturersModelName=Biograph InstitutionName=\"Rigshospitalet, NRU, DK\" BodyPart=Phantom Units=Bq/mL TracerName=none TracerRadionuclide=F18 InjectedRadioactivity=81.24 SpecificRadioactivity=13019.23 ModeOfAdministration=infusion FrameTimesStart=0 AcquisitionMode=\"list mode\" ImageDecayCorrected=true ImageDecayCorrectionTime=0 AttenuationCorrection=MR-corrected FrameDuration=300 FrameTimesStart=0"
      ],
      "metadata": {
        "colab": {
          "base_uri": "https://localhost:8080/"
        },
        "id": "v1xM2hVK1pCF",
        "outputId": "205a55ab-9e8c-499e-fa09-32fc8904d9b2"
      },
      "execution_count": 19,
      "outputs": [
        {
          "output_type": "stream",
          "name": "stdout",
          "text": [
            "Attempting to locate missing BIDS fields in dicom header\n",
            "FOUND BodyPartExamined corresponding to BIDS BodyPart: BRAIN\n",
            "NOT FOUND MappingResourceName corresponding to BIDS TracerName in dicom header.\n",
            "NOT FOUND CodeMeaning corresponding to BIDS TracerRadionuclide in dicom header.\n",
            "NOT FOUND RadionuclideTotalDose corresponding to BIDS InjectedRadioactivity in dicom header.\n",
            "NOT FOUND RadiopharmaceuticalSpecificActivity corresponding to BIDS MolarActivity in dicom header.\n",
            "NOT FOUND RadiopharmaceuticalVolume corresponding to BIDS InjectedVolume in dicom header.\n",
            "NOT FOUND InterventionDrugName corresponding to BIDS PharmaceuticalName in dicom header.\n",
            "NOT FOUND InterventionDrugDose corresponding to BIDS PharmaceuticalDoseAmount in dicom header.\n",
            "NOT FOUND RadiopharmaceuticalStartTime corresponding to BIDS InjectionStart in dicom header.\n",
            "FOUND AcquisitionDate corresponding to BIDS ScanDate: 20220421\n",
            "NOT FOUND RadiopharmaceuticalStopTime corresponding to BIDS InjectionEnd in dicom header.\n",
            "FOUND ReconstructionMethod corresponding to BIDS ReconMethodName: OP-OSEM4i21s\n",
            "FOUND ReconstructionMethod corresponding to BIDS ReconMethodParameterLabels: OP-OSEM4i21s\n",
            "FOUND ReconstructionMethod corresponding to BIDS ReconMethodParameterUnits: OP-OSEM4i21s\n",
            "FOUND ReconstructionMethod corresponding to BIDS ReconMethodParameterValues: OP-OSEM4i21s\n",
            "FOUND ConvolutionKernel corresponding to BIDS ReconFilterType: XYZGAUSSIAN3.00\n",
            "FOUND ConvolutionKernel corresponding to BIDS ReconFilterSize: XYZGAUSSIAN3.00\n",
            "FOUND AttenuationCorrectionMethod corresponding to BIDS AttenuationCorrection: measured\n",
            "FOUND ScatterFractionFactor corresponding to BIDS ScatterFraction: 29.8623\n",
            "FOUND DecayFactor corresponding to BIDS DecayCorrectionFactor: 1.01587\n",
            "\u001b[33mWARNING!!!! JSON Field Manufacturer with value Siemens does not match dicom value of SIEMENS\u001b[0m\n",
            "\u001b[33mWARNING!!!! JSON Field Units with value Bq/mL does not match dicom value of BQML\u001b[0m\n"
          ]
        }
      ]
    },
    {
      "cell_type": "markdown",
      "source": [
        "## validate BIDS dataset\n",
        "https://www.npmjs.com/package/bids-validator"
      ],
      "metadata": {
        "id": "eFtCc8qCQj4s"
      }
    },
    {
      "cell_type": "code",
      "source": [
        "!pip install bids_validator"
      ],
      "metadata": {
        "id": "-bPDq7RXQYkl"
      },
      "execution_count": null,
      "outputs": []
    },
    {
      "cell_type": "code",
      "source": [
        "from bids_validator import BIDSValidator"
      ],
      "metadata": {
        "id": "7gkAWJclQfFE"
      },
      "execution_count": null,
      "outputs": []
    },
    {
      "cell_type": "code",
      "source": [
        "BIDSValidator().is_bids('.') # not up to date, use browser version for now"
      ],
      "metadata": {
        "id": "cdd7UZMqQgAw"
      },
      "execution_count": null,
      "outputs": []
    },
    {
      "cell_type": "markdown",
      "source": [
        "## run only if freesurfer is installed"
      ],
      "metadata": {
        "id": "iq5V5Gtu5w0b"
      }
    },
    {
      "cell_type": "code",
      "source": [
        "!mkdir PETprocessing"
      ],
      "metadata": {
        "id": "tDGo8KQ51uHe"
      },
      "execution_count": null,
      "outputs": []
    },
    {
      "cell_type": "code",
      "source": [
        "!cd PETprocessing"
      ],
      "metadata": {
        "id": "hrECWZDq1xPB"
      },
      "execution_count": null,
      "outputs": []
    },
    {
      "cell_type": "code",
      "source": [
        "!git clone https://github.com/openneuropet/PET_pipelines.git "
      ],
      "metadata": {
        "id": "Qju2_cJO10Wb"
      },
      "execution_count": null,
      "outputs": []
    },
    {
      "cell_type": "code",
      "source": [
        "!cd PET_pipelines/pyPetSurfer "
      ],
      "metadata": {
        "id": "WBdhdIDE187p"
      },
      "execution_count": null,
      "outputs": []
    },
    {
      "cell_type": "code",
      "source": [
        "!wget https://www.dropbox.com/sh/69dwtnv29wd7jlx/AADnw5FvAANpvzKAxVQTnyhBa?dl=0 "
      ],
      "metadata": {
        "id": "BhkxGtPM2K-N"
      },
      "execution_count": null,
      "outputs": []
    },
    {
      "cell_type": "code",
      "source": [
        "!ls PET_pipelines/pyPetSurfer"
      ],
      "metadata": {
        "id": "578shAXE2TMV"
      },
      "execution_count": null,
      "outputs": []
    },
    {
      "cell_type": "code",
      "source": [
        "!unzip AADnw5FvAANpvzKAxVQTnyhBa?dl=0"
      ],
      "metadata": {
        "id": "AK3Gqis-2WWF"
      },
      "execution_count": null,
      "outputs": []
    },
    {
      "cell_type": "code",
      "source": [
        "!pip install mri_coreg"
      ],
      "metadata": {
        "id": "fBUpq_AP4Ue0"
      },
      "execution_count": null,
      "outputs": []
    },
    {
      "cell_type": "code",
      "source": [
        "%run ./example.py"
      ],
      "metadata": {
        "id": "w4zrtiBq38UY"
      },
      "execution_count": null,
      "outputs": []
    },
    {
      "cell_type": "code",
      "source": [
        "!ls .\n"
      ],
      "metadata": {
        "id": "KK5I5qhJ31VJ"
      },
      "execution_count": null,
      "outputs": []
    }
  ]
}